{
 "cells": [
  {
   "cell_type": "markdown",
   "metadata": {
    "id": "z732hgQ2ciNC"
   },
   "source": [
    "# 📉📊📈**Stock Price Prediction Using Different Machine Learning Models and Compare the Performance of the Models**📉📊📈\n",
    "\n",
    "\n"
   ]
  },
  {
   "cell_type": "markdown",
   "metadata": {
    "id": "nKlqp9elgvDo"
   },
   "source": [
    "The stock price forecast is one of the most preferred topics and most interesting topics in the science industry. However, stock market price forecasts are challenging compared to other price forecasting case studies. Many scholars and industry experts have come to a greater consensus a decade. They have studied stocks in various fields such as Computer Science, Economics, Business Arithmetic, and Marketing price forecasts. The stock has been identified according to them as a random walking behavior at market prices. The sudden rises and falls have been the main reason behind stock market price forecasting being a big challenge. An efficient and accurate. stock market forecasting model will help managers, investors, and decision-makers make the right decisions regarding their investments. Machine learning techniques used to predict stock prices include the analysis of historical data to predict the likelihood of a future event or to predict future performance. This is done by looking at patterns of data that include current and past information and finding the most suitable predictive models."
   ]
  },
  {
   "cell_type": "markdown",
   "metadata": {
    "id": "HeO2YW6zCcXx"
   },
   "source": [
    "# ✅ **Decision Tree Regression** ✅"
   ]
  },
  {
   "cell_type": "markdown",
   "metadata": {
    "id": "R_uYpX1mPZkw"
   },
   "source": [
    "Decision tree builds regression or classification models in the form of a tree structure. It breaks down a dataset into smaller and smaller subsets while at the same time an associated decision tree is incrementally developed. The final result is a tree with decision nodes and leaf nodes."
   ]
  },
  {
   "cell_type": "markdown",
   "metadata": {
    "id": "oB73Je3vJLd4"
   },
   "source": [
    "# **Import Libraries**"
   ]
  },
  {
   "cell_type": "code",
   "execution_count": 1,
   "metadata": {
    "ExecuteTime": {
     "end_time": "2023-05-10T18:44:00.513578Z",
     "start_time": "2023-05-10T18:44:00.504369Z"
    },
    "collapsed": false
   },
   "outputs": [],
   "source": [
    "# Import Libraries\n",
    "import numpy as np\n",
    "import pandas as pd\n",
    "import warnings\n",
    "warnings.filterwarnings(\"ignore\")\n",
    "# MATPLOTLIB & SEABORN FOR GRAPH-PLOTTING\n",
    "import matplotlib.pyplot as plt\n",
    "import seaborn as sns\n",
    "%matplotlib inline"
   ]
  },
  {
   "cell_type": "markdown",
   "metadata": {},
   "source": [
    "# **Load data into a Data Frame**"
   ]
  },
  {
   "cell_type": "code",
   "execution_count": 2,
   "metadata": {
    "ExecuteTime": {
     "end_time": "2023-05-10T18:44:00.560822Z",
     "start_time": "2023-05-10T18:44:00.514903Z"
    }
   },
   "outputs": [
    {
     "data": {
      "text/html": [
       "<div>\n",
       "<style scoped>\n",
       "    .dataframe tbody tr th:only-of-type {\n",
       "        vertical-align: middle;\n",
       "    }\n",
       "\n",
       "    .dataframe tbody tr th {\n",
       "        vertical-align: top;\n",
       "    }\n",
       "\n",
       "    .dataframe thead th {\n",
       "        text-align: right;\n",
       "    }\n",
       "</style>\n",
       "<table border=\"1\" class=\"dataframe\">\n",
       "  <thead>\n",
       "    <tr style=\"text-align: right;\">\n",
       "      <th></th>\n",
       "      <th>Date</th>\n",
       "      <th>Open</th>\n",
       "      <th>High</th>\n",
       "      <th>Low</th>\n",
       "      <th>Close</th>\n",
       "      <th>Adj Close</th>\n",
       "      <th>Volume</th>\n",
       "    </tr>\n",
       "  </thead>\n",
       "  <tbody>\n",
       "    <tr>\n",
       "      <th>0</th>\n",
       "      <td>2010-06-29</td>\n",
       "      <td>19.000000</td>\n",
       "      <td>25.00</td>\n",
       "      <td>17.540001</td>\n",
       "      <td>23.889999</td>\n",
       "      <td>23.889999</td>\n",
       "      <td>18766300</td>\n",
       "    </tr>\n",
       "    <tr>\n",
       "      <th>1</th>\n",
       "      <td>2010-06-30</td>\n",
       "      <td>25.790001</td>\n",
       "      <td>30.42</td>\n",
       "      <td>23.299999</td>\n",
       "      <td>23.830000</td>\n",
       "      <td>23.830000</td>\n",
       "      <td>17187100</td>\n",
       "    </tr>\n",
       "    <tr>\n",
       "      <th>2</th>\n",
       "      <td>2010-07-01</td>\n",
       "      <td>25.000000</td>\n",
       "      <td>25.92</td>\n",
       "      <td>20.270000</td>\n",
       "      <td>21.959999</td>\n",
       "      <td>21.959999</td>\n",
       "      <td>8218800</td>\n",
       "    </tr>\n",
       "    <tr>\n",
       "      <th>3</th>\n",
       "      <td>2010-07-02</td>\n",
       "      <td>23.000000</td>\n",
       "      <td>23.10</td>\n",
       "      <td>18.709999</td>\n",
       "      <td>19.200001</td>\n",
       "      <td>19.200001</td>\n",
       "      <td>5139800</td>\n",
       "    </tr>\n",
       "    <tr>\n",
       "      <th>4</th>\n",
       "      <td>2010-07-06</td>\n",
       "      <td>20.000000</td>\n",
       "      <td>20.00</td>\n",
       "      <td>15.830000</td>\n",
       "      <td>16.110001</td>\n",
       "      <td>16.110001</td>\n",
       "      <td>6866900</td>\n",
       "    </tr>\n",
       "  </tbody>\n",
       "</table>\n",
       "</div>"
      ],
      "text/plain": [
       "         Date       Open   High        Low      Close  Adj Close    Volume\n",
       "0  2010-06-29  19.000000  25.00  17.540001  23.889999  23.889999  18766300\n",
       "1  2010-06-30  25.790001  30.42  23.299999  23.830000  23.830000  17187100\n",
       "2  2010-07-01  25.000000  25.92  20.270000  21.959999  21.959999   8218800\n",
       "3  2010-07-02  23.000000  23.10  18.709999  19.200001  19.200001   5139800\n",
       "4  2010-07-06  20.000000  20.00  15.830000  16.110001  16.110001   6866900"
      ]
     },
     "execution_count": 2,
     "metadata": {},
     "output_type": "execute_result"
    }
   ],
   "source": [
    "# input\n",
    "symbol = 'TSLA'\n",
    "start = '2010-01-01'\n",
    "end = '2021-12-31'\n",
    "\n",
    "dataset = pd.read_csv('../dataset/TSLA.csv')\n",
    "dataset.sample(5)\n",
    "dataset.head()"
   ]
  },
  {
   "cell_type": "markdown",
   "metadata": {},
   "source": [
    "# **Data Preprocessing**"
   ]
  },
  {
   "cell_type": "code",
   "execution_count": 3,
   "metadata": {
    "ExecuteTime": {
     "end_time": "2023-05-10T18:44:00.636061Z",
     "start_time": "2023-05-10T18:44:00.553023Z"
    }
   },
   "outputs": [
    {
     "data": {
      "text/html": [
       "<div>\n",
       "<style scoped>\n",
       "    .dataframe tbody tr th:only-of-type {\n",
       "        vertical-align: middle;\n",
       "    }\n",
       "\n",
       "    .dataframe tbody tr th {\n",
       "        vertical-align: top;\n",
       "    }\n",
       "\n",
       "    .dataframe thead th {\n",
       "        text-align: right;\n",
       "    }\n",
       "</style>\n",
       "<table border=\"1\" class=\"dataframe\">\n",
       "  <thead>\n",
       "    <tr style=\"text-align: right;\">\n",
       "      <th></th>\n",
       "      <th>Date</th>\n",
       "      <th>Open</th>\n",
       "      <th>High</th>\n",
       "      <th>Low</th>\n",
       "      <th>Close</th>\n",
       "      <th>Adj Close</th>\n",
       "      <th>Volume</th>\n",
       "      <th>Increase_Decrease</th>\n",
       "      <th>Buy_Sell_on_Open</th>\n",
       "      <th>Buy_Sell</th>\n",
       "      <th>Return</th>\n",
       "    </tr>\n",
       "  </thead>\n",
       "  <tbody>\n",
       "    <tr>\n",
       "      <th>1</th>\n",
       "      <td>2010-06-30</td>\n",
       "      <td>25.790001</td>\n",
       "      <td>30.420000</td>\n",
       "      <td>23.299999</td>\n",
       "      <td>23.830000</td>\n",
       "      <td>23.830000</td>\n",
       "      <td>17187100</td>\n",
       "      <td>0</td>\n",
       "      <td>-1</td>\n",
       "      <td>-1</td>\n",
       "      <td>-0.002511</td>\n",
       "    </tr>\n",
       "    <tr>\n",
       "      <th>2</th>\n",
       "      <td>2010-07-01</td>\n",
       "      <td>25.000000</td>\n",
       "      <td>25.920000</td>\n",
       "      <td>20.270000</td>\n",
       "      <td>21.959999</td>\n",
       "      <td>21.959999</td>\n",
       "      <td>8218800</td>\n",
       "      <td>0</td>\n",
       "      <td>-1</td>\n",
       "      <td>-1</td>\n",
       "      <td>-0.078473</td>\n",
       "    </tr>\n",
       "    <tr>\n",
       "      <th>3</th>\n",
       "      <td>2010-07-02</td>\n",
       "      <td>23.000000</td>\n",
       "      <td>23.100000</td>\n",
       "      <td>18.709999</td>\n",
       "      <td>19.200001</td>\n",
       "      <td>19.200001</td>\n",
       "      <td>5139800</td>\n",
       "      <td>1</td>\n",
       "      <td>-1</td>\n",
       "      <td>-1</td>\n",
       "      <td>-0.125683</td>\n",
       "    </tr>\n",
       "    <tr>\n",
       "      <th>4</th>\n",
       "      <td>2010-07-06</td>\n",
       "      <td>20.000000</td>\n",
       "      <td>20.000000</td>\n",
       "      <td>15.830000</td>\n",
       "      <td>16.110001</td>\n",
       "      <td>16.110001</td>\n",
       "      <td>6866900</td>\n",
       "      <td>1</td>\n",
       "      <td>-1</td>\n",
       "      <td>-1</td>\n",
       "      <td>-0.160937</td>\n",
       "    </tr>\n",
       "    <tr>\n",
       "      <th>5</th>\n",
       "      <td>2010-07-07</td>\n",
       "      <td>16.400000</td>\n",
       "      <td>16.629999</td>\n",
       "      <td>14.980000</td>\n",
       "      <td>15.800000</td>\n",
       "      <td>15.800000</td>\n",
       "      <td>6921700</td>\n",
       "      <td>1</td>\n",
       "      <td>-1</td>\n",
       "      <td>1</td>\n",
       "      <td>-0.019243</td>\n",
       "    </tr>\n",
       "  </tbody>\n",
       "</table>\n",
       "</div>"
      ],
      "text/plain": [
       "         Date       Open       High        Low      Close  Adj Close  \\\n",
       "1  2010-06-30  25.790001  30.420000  23.299999  23.830000  23.830000   \n",
       "2  2010-07-01  25.000000  25.920000  20.270000  21.959999  21.959999   \n",
       "3  2010-07-02  23.000000  23.100000  18.709999  19.200001  19.200001   \n",
       "4  2010-07-06  20.000000  20.000000  15.830000  16.110001  16.110001   \n",
       "5  2010-07-07  16.400000  16.629999  14.980000  15.800000  15.800000   \n",
       "\n",
       "     Volume  Increase_Decrease  Buy_Sell_on_Open  Buy_Sell    Return  \n",
       "1  17187100                  0                -1        -1 -0.002511  \n",
       "2   8218800                  0                -1        -1 -0.078473  \n",
       "3   5139800                  1                -1        -1 -0.125683  \n",
       "4   6866900                  1                -1        -1 -0.160937  \n",
       "5   6921700                  1                -1         1 -0.019243  "
      ]
     },
     "execution_count": 3,
     "metadata": {},
     "output_type": "execute_result"
    }
   ],
   "source": [
    "# Create more data\n",
    "dataset['Increase_Decrease'] = np.where(dataset['Volume'].shift(-1) > dataset['Volume'],1,0)\n",
    "dataset['Buy_Sell_on_Open'] = np.where(dataset['Open'].shift(-1) > dataset['Open'],1,-1)\n",
    "dataset['Buy_Sell'] = np.where(dataset['Adj Close'].shift(-1) > dataset['Adj Close'],1,-1)\n",
    "dataset['Return'] = dataset['Adj Close'].pct_change()\n",
    "dataset = dataset.dropna()\n",
    "dataset.head()"
   ]
  },
  {
   "cell_type": "markdown",
   "metadata": {},
   "source": [
    "# **View Dataset**"
   ]
  },
  {
   "cell_type": "code",
   "execution_count": 4,
   "metadata": {
    "ExecuteTime": {
     "end_time": "2023-05-10T18:44:02.756195Z",
     "start_time": "2023-05-10T18:44:02.725503Z"
    }
   },
   "outputs": [
    {
     "data": {
      "text/html": [
       "<div>\n",
       "<style scoped>\n",
       "    .dataframe tbody tr th:only-of-type {\n",
       "        vertical-align: middle;\n",
       "    }\n",
       "\n",
       "    .dataframe tbody tr th {\n",
       "        vertical-align: top;\n",
       "    }\n",
       "\n",
       "    .dataframe thead th {\n",
       "        text-align: right;\n",
       "    }\n",
       "</style>\n",
       "<table border=\"1\" class=\"dataframe\">\n",
       "  <thead>\n",
       "    <tr style=\"text-align: right;\">\n",
       "      <th></th>\n",
       "      <th>Date</th>\n",
       "      <th>Open</th>\n",
       "      <th>High</th>\n",
       "      <th>Low</th>\n",
       "      <th>Close</th>\n",
       "      <th>Adj Close</th>\n",
       "      <th>Volume</th>\n",
       "      <th>Increase_Decrease</th>\n",
       "      <th>Buy_Sell_on_Open</th>\n",
       "      <th>Buy_Sell</th>\n",
       "      <th>Return</th>\n",
       "    </tr>\n",
       "  </thead>\n",
       "  <tbody>\n",
       "    <tr>\n",
       "      <th>1</th>\n",
       "      <td>2010-06-30</td>\n",
       "      <td>25.790001</td>\n",
       "      <td>30.420000</td>\n",
       "      <td>23.299999</td>\n",
       "      <td>23.830000</td>\n",
       "      <td>23.830000</td>\n",
       "      <td>17187100</td>\n",
       "      <td>0</td>\n",
       "      <td>-1</td>\n",
       "      <td>-1</td>\n",
       "      <td>-0.002511</td>\n",
       "    </tr>\n",
       "    <tr>\n",
       "      <th>2</th>\n",
       "      <td>2010-07-01</td>\n",
       "      <td>25.000000</td>\n",
       "      <td>25.920000</td>\n",
       "      <td>20.270000</td>\n",
       "      <td>21.959999</td>\n",
       "      <td>21.959999</td>\n",
       "      <td>8218800</td>\n",
       "      <td>0</td>\n",
       "      <td>-1</td>\n",
       "      <td>-1</td>\n",
       "      <td>-0.078473</td>\n",
       "    </tr>\n",
       "    <tr>\n",
       "      <th>3</th>\n",
       "      <td>2010-07-02</td>\n",
       "      <td>23.000000</td>\n",
       "      <td>23.100000</td>\n",
       "      <td>18.709999</td>\n",
       "      <td>19.200001</td>\n",
       "      <td>19.200001</td>\n",
       "      <td>5139800</td>\n",
       "      <td>1</td>\n",
       "      <td>-1</td>\n",
       "      <td>-1</td>\n",
       "      <td>-0.125683</td>\n",
       "    </tr>\n",
       "    <tr>\n",
       "      <th>4</th>\n",
       "      <td>2010-07-06</td>\n",
       "      <td>20.000000</td>\n",
       "      <td>20.000000</td>\n",
       "      <td>15.830000</td>\n",
       "      <td>16.110001</td>\n",
       "      <td>16.110001</td>\n",
       "      <td>6866900</td>\n",
       "      <td>1</td>\n",
       "      <td>-1</td>\n",
       "      <td>-1</td>\n",
       "      <td>-0.160937</td>\n",
       "    </tr>\n",
       "    <tr>\n",
       "      <th>5</th>\n",
       "      <td>2010-07-07</td>\n",
       "      <td>16.400000</td>\n",
       "      <td>16.629999</td>\n",
       "      <td>14.980000</td>\n",
       "      <td>15.800000</td>\n",
       "      <td>15.800000</td>\n",
       "      <td>6921700</td>\n",
       "      <td>1</td>\n",
       "      <td>-1</td>\n",
       "      <td>1</td>\n",
       "      <td>-0.019243</td>\n",
       "    </tr>\n",
       "    <tr>\n",
       "      <th>...</th>\n",
       "      <td>...</td>\n",
       "      <td>...</td>\n",
       "      <td>...</td>\n",
       "      <td>...</td>\n",
       "      <td>...</td>\n",
       "      <td>...</td>\n",
       "      <td>...</td>\n",
       "      <td>...</td>\n",
       "      <td>...</td>\n",
       "      <td>...</td>\n",
       "      <td>...</td>\n",
       "    </tr>\n",
       "    <tr>\n",
       "      <th>2411</th>\n",
       "      <td>2020-01-28</td>\n",
       "      <td>568.489990</td>\n",
       "      <td>576.809998</td>\n",
       "      <td>558.080017</td>\n",
       "      <td>566.900024</td>\n",
       "      <td>566.900024</td>\n",
       "      <td>11788500</td>\n",
       "      <td>1</td>\n",
       "      <td>1</td>\n",
       "      <td>1</td>\n",
       "      <td>0.015913</td>\n",
       "    </tr>\n",
       "    <tr>\n",
       "      <th>2412</th>\n",
       "      <td>2020-01-29</td>\n",
       "      <td>575.690002</td>\n",
       "      <td>589.799988</td>\n",
       "      <td>567.429993</td>\n",
       "      <td>580.989990</td>\n",
       "      <td>580.989990</td>\n",
       "      <td>17801500</td>\n",
       "      <td>1</td>\n",
       "      <td>1</td>\n",
       "      <td>1</td>\n",
       "      <td>0.024854</td>\n",
       "    </tr>\n",
       "    <tr>\n",
       "      <th>2413</th>\n",
       "      <td>2020-01-30</td>\n",
       "      <td>632.419983</td>\n",
       "      <td>650.880005</td>\n",
       "      <td>618.000000</td>\n",
       "      <td>640.809998</td>\n",
       "      <td>640.809998</td>\n",
       "      <td>29005700</td>\n",
       "      <td>0</td>\n",
       "      <td>1</td>\n",
       "      <td>1</td>\n",
       "      <td>0.102962</td>\n",
       "    </tr>\n",
       "    <tr>\n",
       "      <th>2414</th>\n",
       "      <td>2020-01-31</td>\n",
       "      <td>640.000000</td>\n",
       "      <td>653.000000</td>\n",
       "      <td>632.520020</td>\n",
       "      <td>650.570007</td>\n",
       "      <td>650.570007</td>\n",
       "      <td>15719300</td>\n",
       "      <td>1</td>\n",
       "      <td>1</td>\n",
       "      <td>1</td>\n",
       "      <td>0.015231</td>\n",
       "    </tr>\n",
       "    <tr>\n",
       "      <th>2415</th>\n",
       "      <td>2020-02-03</td>\n",
       "      <td>673.690002</td>\n",
       "      <td>786.140015</td>\n",
       "      <td>673.520020</td>\n",
       "      <td>780.000000</td>\n",
       "      <td>780.000000</td>\n",
       "      <td>47065000</td>\n",
       "      <td>0</td>\n",
       "      <td>-1</td>\n",
       "      <td>-1</td>\n",
       "      <td>0.198949</td>\n",
       "    </tr>\n",
       "  </tbody>\n",
       "</table>\n",
       "<p>2415 rows × 11 columns</p>\n",
       "</div>"
      ],
      "text/plain": [
       "            Date        Open        High         Low       Close   Adj Close  \\\n",
       "1     2010-06-30   25.790001   30.420000   23.299999   23.830000   23.830000   \n",
       "2     2010-07-01   25.000000   25.920000   20.270000   21.959999   21.959999   \n",
       "3     2010-07-02   23.000000   23.100000   18.709999   19.200001   19.200001   \n",
       "4     2010-07-06   20.000000   20.000000   15.830000   16.110001   16.110001   \n",
       "5     2010-07-07   16.400000   16.629999   14.980000   15.800000   15.800000   \n",
       "...          ...         ...         ...         ...         ...         ...   \n",
       "2411  2020-01-28  568.489990  576.809998  558.080017  566.900024  566.900024   \n",
       "2412  2020-01-29  575.690002  589.799988  567.429993  580.989990  580.989990   \n",
       "2413  2020-01-30  632.419983  650.880005  618.000000  640.809998  640.809998   \n",
       "2414  2020-01-31  640.000000  653.000000  632.520020  650.570007  650.570007   \n",
       "2415  2020-02-03  673.690002  786.140015  673.520020  780.000000  780.000000   \n",
       "\n",
       "        Volume  Increase_Decrease  Buy_Sell_on_Open  Buy_Sell    Return  \n",
       "1     17187100                  0                -1        -1 -0.002511  \n",
       "2      8218800                  0                -1        -1 -0.078473  \n",
       "3      5139800                  1                -1        -1 -0.125683  \n",
       "4      6866900                  1                -1        -1 -0.160937  \n",
       "5      6921700                  1                -1         1 -0.019243  \n",
       "...        ...                ...               ...       ...       ...  \n",
       "2411  11788500                  1                 1         1  0.015913  \n",
       "2412  17801500                  1                 1         1  0.024854  \n",
       "2413  29005700                  0                 1         1  0.102962  \n",
       "2414  15719300                  1                 1         1  0.015231  \n",
       "2415  47065000                  0                -1        -1  0.198949  \n",
       "\n",
       "[2415 rows x 11 columns]"
      ]
     },
     "execution_count": 4,
     "metadata": {},
     "output_type": "execute_result"
    }
   ],
   "source": [
    "#View Dataset\n",
    "dataset"
   ]
  },
  {
   "cell_type": "markdown",
   "metadata": {},
   "source": [
    "# **Null value testing and data clearance**"
   ]
  },
  {
   "cell_type": "code",
   "execution_count": 5,
   "metadata": {
    "ExecuteTime": {
     "end_time": "2023-05-10T18:44:04.869966Z",
     "start_time": "2023-05-10T18:44:04.830020Z"
    }
   },
   "outputs": [
    {
     "data": {
      "text/plain": [
       "Date                 0\n",
       "Open                 0\n",
       "High                 0\n",
       "Low                  0\n",
       "Close                0\n",
       "Adj Close            0\n",
       "Volume               0\n",
       "Increase_Decrease    0\n",
       "Buy_Sell_on_Open     0\n",
       "Buy_Sell             0\n",
       "Return               0\n",
       "dtype: int64"
      ]
     },
     "execution_count": 5,
     "metadata": {},
     "output_type": "execute_result"
    }
   ],
   "source": [
    "# See how many null values in each column\n",
    "\n",
    "dataset.isnull().sum()"
   ]
  },
  {
   "cell_type": "code",
   "execution_count": 6,
   "metadata": {
    "ExecuteTime": {
     "end_time": "2023-05-10T18:44:06.995497Z",
     "start_time": "2023-05-10T18:44:06.749744Z"
    }
   },
   "outputs": [
    {
     "data": {
      "image/png": "[encoded data removed]",
      "text/plain": [
       "<Figure size 1200x400 with 1 Axes>"
      ]
     },
     "metadata": {},
     "output_type": "display_data"
    }
   ],
   "source": [
    "plt.figure(figsize=(12,4))\n",
    "sns.heatmap(dataset.isnull(), yticklabels=False,cbar=False,cmap='viridis')\n",
    "plt.savefig(\"Figure 1: Heatmap for Null Values\")"
   ]
  },
  {
   "cell_type": "markdown",
   "metadata": {},
   "source": [
    "# **Analyze the Data**"
   ]
  },
  {
   "cell_type": "code",
   "execution_count": 7,
   "metadata": {
    "ExecuteTime": {
     "end_time": "2023-05-10T18:44:08.655348Z",
     "start_time": "2023-05-10T18:44:08.641947Z"
    }
   },
   "outputs": [
    {
     "data": {
      "text/plain": [
       "(2415, 11)"
      ]
     },
     "execution_count": 7,
     "metadata": {},
     "output_type": "execute_result"
    }
   ],
   "source": [
    "# see number of rows, number of columns\n",
    "dataset.shape"
   ]
  },
  {
   "cell_type": "code",
   "execution_count": 8,
   "metadata": {
    "ExecuteTime": {
     "end_time": "2023-05-10T18:44:09.603547Z",
     "start_time": "2023-05-10T18:44:09.589595Z"
    }
   },
   "outputs": [
    {
     "name": "stdout",
     "output_type": "stream",
     "text": [
      "Total number of records =  26565\n"
     ]
    }
   ],
   "source": [
    "#TOTAL NUMBER OF RECORDS\n",
    "dataset.size\n",
    "print(\"Total number of records = \",dataset.size)"
   ]
  },
  {
   "cell_type": "code",
   "execution_count": 9,
   "metadata": {
    "ExecuteTime": {
     "end_time": "2023-05-10T18:44:12.382953Z",
     "start_time": "2023-05-10T18:44:12.297552Z"
    }
   },
   "outputs": [
    {
     "data": {
      "text/plain": [
       "Index(['Date', 'Open', 'High', 'Low', 'Close', 'Adj Close', 'Volume',\n",
       "       'Increase_Decrease', 'Buy_Sell_on_Open', 'Buy_Sell', 'Return'],\n",
       "      dtype='object')"
      ]
     },
     "execution_count": 9,
     "metadata": {},
     "output_type": "execute_result"
    }
   ],
   "source": [
    "# see columns names\n",
    "\n",
    "dataset.columns"
   ]
  },
  {
   "cell_type": "code",
   "execution_count": 10,
   "metadata": {
    "ExecuteTime": {
     "end_time": "2023-05-10T18:44:13.391334Z",
     "start_time": "2023-05-10T18:44:13.364194Z"
    }
   },
   "outputs": [
    {
     "data": {
      "text/plain": [
       "Date                  object\n",
       "Open                 float64\n",
       "High                 float64\n",
       "Low                  float64\n",
       "Close                float64\n",
       "Adj Close            float64\n",
       "Volume                 int64\n",
       "Increase_Decrease      int32\n",
       "Buy_Sell_on_Open       int32\n",
       "Buy_Sell               int32\n",
       "Return               float64\n",
       "dtype: object"
      ]
     },
     "execution_count": 10,
     "metadata": {},
     "output_type": "execute_result"
    }
   ],
   "source": [
    "# See data types of the Columns\n",
    "\n",
    "dataset.dtypes"
   ]
  },
  {
   "cell_type": "code",
   "execution_count": 11,
   "metadata": {
    "ExecuteTime": {
     "end_time": "2023-05-10T18:44:15.564837Z",
     "start_time": "2023-05-10T18:44:14.388439Z"
    }
   },
   "outputs": [
    {
     "data": {
      "text/plain": [
       "array([[<Axes: title={'center': 'Open'}>,\n",
       "        <Axes: title={'center': 'High'}>,\n",
       "        <Axes: title={'center': 'Low'}>],\n",
       "       [<Axes: title={'center': 'Close'}>,\n",
       "        <Axes: title={'center': 'Adj Close'}>,\n",
       "        <Axes: title={'center': 'Volume'}>],\n",
       "       [<Axes: title={'center': 'Increase_Decrease'}>,\n",
       "        <Axes: title={'center': 'Buy_Sell_on_Open'}>,\n",
       "        <Axes: title={'center': 'Buy_Sell'}>],\n",
       "       [<Axes: title={'center': 'Return'}>, <Axes: >, <Axes: >]],\n",
       "      dtype=object)"
      ]
     },
     "execution_count": 11,
     "metadata": {},
     "output_type": "execute_result"
    },
    {
     "data": {
      "image/png": "[encoded data removed]",
      "text/plain": [
       "<Figure size 1500x1500 with 12 Axes>"
      ]
     },
     "metadata": {},
     "output_type": "display_data"
    }
   ],
   "source": [
    "# Histogram per each numerical column\n",
    "\n",
    "dataset.hist(figsize=(15, 15))"
   ]
  },
  {
   "cell_type": "code",
   "execution_count": 12,
   "metadata": {
    "ExecuteTime": {
     "end_time": "2023-05-10T18:44:15.725663Z",
     "start_time": "2023-05-10T18:44:15.556861Z"
    }
   },
   "outputs": [
    {
     "data": {
      "text/html": [
       "<div>\n",
       "<style scoped>\n",
       "    .dataframe tbody tr th:only-of-type {\n",
       "        vertical-align: middle;\n",
       "    }\n",
       "\n",
       "    .dataframe tbody tr th {\n",
       "        vertical-align: top;\n",
       "    }\n",
       "\n",
       "    .dataframe thead th {\n",
       "        text-align: right;\n",
       "    }\n",
       "</style>\n",
       "<table border=\"1\" class=\"dataframe\">\n",
       "  <thead>\n",
       "    <tr style=\"text-align: right;\">\n",
       "      <th></th>\n",
       "      <th>Open</th>\n",
       "      <th>High</th>\n",
       "      <th>Low</th>\n",
       "      <th>Close</th>\n",
       "      <th>Adj Close</th>\n",
       "      <th>Volume</th>\n",
       "      <th>Increase_Decrease</th>\n",
       "      <th>Buy_Sell_on_Open</th>\n",
       "      <th>Buy_Sell</th>\n",
       "      <th>Return</th>\n",
       "    </tr>\n",
       "  </thead>\n",
       "  <tbody>\n",
       "    <tr>\n",
       "      <th>count</th>\n",
       "      <td>2415.000000</td>\n",
       "      <td>2415.000000</td>\n",
       "      <td>2415.000000</td>\n",
       "      <td>2415.000000</td>\n",
       "      <td>2415.000000</td>\n",
       "      <td>2.415000e+03</td>\n",
       "      <td>2415.000000</td>\n",
       "      <td>2415.000000</td>\n",
       "      <td>2415.000000</td>\n",
       "      <td>2415.000000</td>\n",
       "    </tr>\n",
       "    <tr>\n",
       "      <th>mean</th>\n",
       "      <td>186.340410</td>\n",
       "      <td>189.646373</td>\n",
       "      <td>182.985118</td>\n",
       "      <td>186.470944</td>\n",
       "      <td>186.470944</td>\n",
       "      <td>5.567259e+06</td>\n",
       "      <td>0.469979</td>\n",
       "      <td>0.040994</td>\n",
       "      <td>0.022774</td>\n",
       "      <td>0.001975</td>\n",
       "    </tr>\n",
       "    <tr>\n",
       "      <th>std</th>\n",
       "      <td>118.715928</td>\n",
       "      <td>120.870941</td>\n",
       "      <td>116.833297</td>\n",
       "      <td>119.114759</td>\n",
       "      <td>119.114759</td>\n",
       "      <td>4.981607e+06</td>\n",
       "      <td>0.499201</td>\n",
       "      <td>0.999366</td>\n",
       "      <td>0.999948</td>\n",
       "      <td>0.032762</td>\n",
       "    </tr>\n",
       "    <tr>\n",
       "      <th>min</th>\n",
       "      <td>16.139999</td>\n",
       "      <td>16.629999</td>\n",
       "      <td>14.980000</td>\n",
       "      <td>15.800000</td>\n",
       "      <td>15.800000</td>\n",
       "      <td>1.185000e+05</td>\n",
       "      <td>0.000000</td>\n",
       "      <td>-1.000000</td>\n",
       "      <td>-1.000000</td>\n",
       "      <td>-0.193274</td>\n",
       "    </tr>\n",
       "    <tr>\n",
       "      <th>25%</th>\n",
       "      <td>34.375000</td>\n",
       "      <td>34.930001</td>\n",
       "      <td>33.650000</td>\n",
       "      <td>34.400002</td>\n",
       "      <td>34.400002</td>\n",
       "      <td>1.897250e+06</td>\n",
       "      <td>0.000000</td>\n",
       "      <td>-1.000000</td>\n",
       "      <td>-1.000000</td>\n",
       "      <td>-0.014178</td>\n",
       "    </tr>\n",
       "    <tr>\n",
       "      <th>50%</th>\n",
       "      <td>213.100006</td>\n",
       "      <td>216.750000</td>\n",
       "      <td>208.919998</td>\n",
       "      <td>212.960007</td>\n",
       "      <td>212.960007</td>\n",
       "      <td>4.577200e+06</td>\n",
       "      <td>0.000000</td>\n",
       "      <td>1.000000</td>\n",
       "      <td>1.000000</td>\n",
       "      <td>0.000870</td>\n",
       "    </tr>\n",
       "    <tr>\n",
       "      <th>75%</th>\n",
       "      <td>266.450012</td>\n",
       "      <td>270.935012</td>\n",
       "      <td>262.104995</td>\n",
       "      <td>266.779999</td>\n",
       "      <td>266.779999</td>\n",
       "      <td>7.360250e+06</td>\n",
       "      <td>1.000000</td>\n",
       "      <td>1.000000</td>\n",
       "      <td>1.000000</td>\n",
       "      <td>0.018115</td>\n",
       "    </tr>\n",
       "    <tr>\n",
       "      <th>max</th>\n",
       "      <td>673.690002</td>\n",
       "      <td>786.140015</td>\n",
       "      <td>673.520020</td>\n",
       "      <td>780.000000</td>\n",
       "      <td>780.000000</td>\n",
       "      <td>4.706500e+07</td>\n",
       "      <td>1.000000</td>\n",
       "      <td>1.000000</td>\n",
       "      <td>1.000000</td>\n",
       "      <td>0.243951</td>\n",
       "    </tr>\n",
       "  </tbody>\n",
       "</table>\n",
       "</div>"
      ],
      "text/plain": [
       "              Open         High          Low        Close    Adj Close  \\\n",
       "count  2415.000000  2415.000000  2415.000000  2415.000000  2415.000000   \n",
       "mean    186.340410   189.646373   182.985118   186.470944   186.470944   \n",
       "std     118.715928   120.870941   116.833297   119.114759   119.114759   \n",
       "min      16.139999    16.629999    14.980000    15.800000    15.800000   \n",
       "25%      34.375000    34.930001    33.650000    34.400002    34.400002   \n",
       "50%     213.100006   216.750000   208.919998   212.960007   212.960007   \n",
       "75%     266.450012   270.935012   262.104995   266.779999   266.779999   \n",
       "max     673.690002   786.140015   673.520020   780.000000   780.000000   \n",
       "\n",
       "             Volume  Increase_Decrease  Buy_Sell_on_Open     Buy_Sell  \\\n",
       "count  2.415000e+03        2415.000000       2415.000000  2415.000000   \n",
       "mean   5.567259e+06           0.469979          0.040994     0.022774   \n",
       "std    4.981607e+06           0.499201          0.999366     0.999948   \n",
       "min    1.185000e+05           0.000000         -1.000000    -1.000000   \n",
       "25%    1.897250e+06           0.000000         -1.000000    -1.000000   \n",
       "50%    4.577200e+06           0.000000          1.000000     1.000000   \n",
       "75%    7.360250e+06           1.000000          1.000000     1.000000   \n",
       "max    4.706500e+07           1.000000          1.000000     1.000000   \n",
       "\n",
       "            Return  \n",
       "count  2415.000000  \n",
       "mean      0.001975  \n",
       "std       0.032762  \n",
       "min      -0.193274  \n",
       "25%      -0.014178  \n",
       "50%       0.000870  \n",
       "75%       0.018115  \n",
       "max       0.243951  "
      ]
     },
     "execution_count": 12,
     "metadata": {},
     "output_type": "execute_result"
    }
   ],
   "source": [
    "# The statistics per each column\n",
    "\n",
    "dataset.describe()"
   ]
  },
  {
   "cell_type": "markdown",
   "metadata": {},
   "source": [
    "# **Define X and Y**"
   ]
  },
  {
   "cell_type": "code",
   "execution_count": 13,
   "metadata": {
    "ExecuteTime": {
     "end_time": "2023-05-10T18:44:17.246238Z",
     "start_time": "2023-05-10T18:44:17.219913Z"
    }
   },
   "outputs": [],
   "source": [
    "X = dataset.drop(['Adj Close', 'Close','Date'], axis=1)\n",
    "y = dataset['Adj Close'] "
   ]
  },
  {
   "cell_type": "markdown",
   "metadata": {},
   "source": [
    "# **Split Train data and Test data**"
   ]
  },
  {
   "cell_type": "code",
   "execution_count": 14,
   "metadata": {
    "ExecuteTime": {
     "end_time": "2023-05-10T18:44:19.515484Z",
     "start_time": "2023-05-10T18:44:19.220886Z"
    }
   },
   "outputs": [],
   "source": [
    "from sklearn.model_selection import train_test_split  \n",
    "X_train, X_test, y_train, y_test = train_test_split(X, y, test_size=0.2, random_state=0)"
   ]
  },
  {
   "cell_type": "markdown",
   "metadata": {},
   "source": [
    "# **Dataset Traning and Model Traning**"
   ]
  },
  {
   "cell_type": "code",
   "execution_count": 15,
   "metadata": {
    "ExecuteTime": {
     "end_time": "2023-04-25T17:10:11.813100Z",
     "start_time": "2023-04-25T17:10:11.680274Z"
    }
   },
   "outputs": [
    {
     "data": {
      "text/html": [
       "<style>#sk-container-id-1 {color: black;}#sk-container-id-1 pre{padding: 0;}#sk-container-id-1 div.sk-toggleable {background-color: white;}#sk-container-id-1 label.sk-toggleable__label {cursor: pointer;display: block;width: 100%;margin-bottom: 0;padding: 0.3em;box-sizing: border-box;text-align: center;}#sk-container-id-1 label.sk-toggleable__label-arrow:before {content: \"▸\";float: left;margin-right: 0.25em;color: #696969;}#sk-container-id-1 label.sk-toggleable__label-arrow:hover:before {color: black;}#sk-container-id-1 div.sk-estimator:hover label.sk-toggleable__label-arrow:before {color: black;}#sk-container-id-1 div.sk-toggleable__content {max-height: 0;max-width: 0;overflow: hidden;text-align: left;background-color: #f0f8ff;}#sk-container-id-1 div.sk-toggleable__content pre {margin: 0.2em;color: black;border-radius: 0.25em;background-color: #f0f8ff;}#sk-container-id-1 input.sk-toggleable__control:checked~div.sk-toggleable__content {max-height: 200px;max-width: 100%;overflow: auto;}#sk-container-id-1 input.sk-toggleable__control:checked~label.sk-toggleable__label-arrow:before {content: \"▾\";}#sk-container-id-1 div.sk-estimator input.sk-toggleable__control:checked~label.sk-toggleable__label {background-color: #d4ebff;}#sk-container-id-1 div.sk-label input.sk-toggleable__control:checked~label.sk-toggleable__label {background-color: #d4ebff;}#sk-container-id-1 input.sk-hidden--visually {border: 0;clip: rect(1px 1px 1px 1px);clip: rect(1px, 1px, 1px, 1px);height: 1px;margin: -1px;overflow: hidden;padding: 0;position: absolute;width: 1px;}#sk-container-id-1 div.sk-estimator {font-family: monospace;background-color: #f0f8ff;border: 1px dotted black;border-radius: 0.25em;box-sizing: border-box;margin-bottom: 0.5em;}#sk-container-id-1 div.sk-estimator:hover {background-color: #d4ebff;}#sk-container-id-1 div.sk-parallel-item::after {content: \"\";width: 100%;border-bottom: 1px solid gray;flex-grow: 1;}#sk-container-id-1 div.sk-label:hover label.sk-toggleable__label {background-color: #d4ebff;}#sk-container-id-1 div.sk-serial::before {content: \"\";position: absolute;border-left: 1px solid gray;box-sizing: border-box;top: 0;bottom: 0;left: 50%;z-index: 0;}#sk-container-id-1 div.sk-serial {display: flex;flex-direction: column;align-items: center;background-color: white;padding-right: 0.2em;padding-left: 0.2em;position: relative;}#sk-container-id-1 div.sk-item {position: relative;z-index: 1;}#sk-container-id-1 div.sk-parallel {display: flex;align-items: stretch;justify-content: center;background-color: white;position: relative;}#sk-container-id-1 div.sk-item::before, #sk-container-id-1 div.sk-parallel-item::before {content: \"\";position: absolute;border-left: 1px solid gray;box-sizing: border-box;top: 0;bottom: 0;left: 50%;z-index: -1;}#sk-container-id-1 div.sk-parallel-item {display: flex;flex-direction: column;z-index: 1;position: relative;background-color: white;}#sk-container-id-1 div.sk-parallel-item:first-child::after {align-self: flex-end;width: 50%;}#sk-container-id-1 div.sk-parallel-item:last-child::after {align-self: flex-start;width: 50%;}#sk-container-id-1 div.sk-parallel-item:only-child::after {width: 0;}#sk-container-id-1 div.sk-dashed-wrapped {border: 1px dashed gray;margin: 0 0.4em 0.5em 0.4em;box-sizing: border-box;padding-bottom: 0.4em;background-color: white;}#sk-container-id-1 div.sk-label label {font-family: monospace;font-weight: bold;display: inline-block;line-height: 1.2em;}#sk-container-id-1 div.sk-label-container {text-align: center;}#sk-container-id-1 div.sk-container {/* jupyter's `normalize.less` sets `[hidden] { display: none; }` but bootstrap.min.css set `[hidden] { display: none !important; }` so we also need the `!important` here to be able to override the default hidden behavior on the sphinx rendered scikit-learn.org. See: https://github.com/scikit-learn/scikit-learn/issues/21755 */display: inline-block !important;position: relative;}#sk-container-id-1 div.sk-text-repr-fallback {display: none;}</style><div id=\"sk-container-id-1\" class=\"sk-top-container\"><div class=\"sk-text-repr-fallback\"><pre>DecisionTreeRegressor()</pre><b>In a Jupyter environment, please rerun this cell to show the HTML representation or trust the notebook. <br />On GitHub, the HTML representation is unable to render, please try loading this page with nbviewer.org.</b></div><div class=\"sk-container\" hidden><div class=\"sk-item\"><div class=\"sk-estimator sk-toggleable\"><input class=\"sk-toggleable__control sk-hidden--visually\" id=\"sk-estimator-id-1\" type=\"checkbox\" checked><label for=\"sk-estimator-id-1\" class=\"sk-toggleable__label sk-toggleable__label-arrow\">DecisionTreeRegressor</label><div class=\"sk-toggleable__content\"><pre>DecisionTreeRegressor()</pre></div></div></div></div></div>"
      ],
      "text/plain": [
       "DecisionTreeRegressor()"
      ]
     },
     "execution_count": 15,
     "metadata": {},
     "output_type": "execute_result"
    }
   ],
   "source": [
    "from sklearn.tree import DecisionTreeRegressor  \n",
    "regressor = DecisionTreeRegressor()  \n",
    "regressor.fit(X_train, y_train)"
   ]
  },
  {
   "cell_type": "markdown",
   "metadata": {},
   "source": [
    "# **Comparison of Actual Values and Predictions Values**"
   ]
  },
  {
   "cell_type": "code",
   "execution_count": 16,
   "metadata": {
    "ExecuteTime": {
     "end_time": "2023-04-25T17:10:12.530399Z",
     "start_time": "2023-04-25T17:10:12.488360Z"
    }
   },
   "outputs": [],
   "source": [
    "y_pred = regressor.predict(X_test)"
   ]
  },
  {
   "cell_type": "code",
   "execution_count": 17,
   "metadata": {
    "ExecuteTime": {
     "end_time": "2023-04-25T17:10:13.343645Z",
     "start_time": "2023-04-25T17:10:13.259006Z"
    }
   },
   "outputs": [
    {
     "name": "stdout",
     "output_type": "stream",
     "text": [
      "          Actual   Predicted\n",
      "1874  313.260010  310.700012\n",
      "558    29.480000   29.250000\n",
      "149    24.100000   23.889999\n",
      "1138  211.279999  208.169998\n",
      "1662  251.330002  251.410004\n",
      "          Actual   Predicted\n",
      "548    28.410000   28.400000\n",
      "1599  188.020004  187.589996\n",
      "1588  199.100006  196.119995\n",
      "387    27.620001   27.520000\n",
      "2044  355.489990  355.010010\n"
     ]
    }
   ],
   "source": [
    "df = pd.DataFrame({'Actual':y_test, 'Predicted':y_pred})  \n",
    "print(df.head())\n",
    "print(df.tail())"
   ]
  },
  {
   "cell_type": "code",
   "execution_count": 18,
   "metadata": {
    "ExecuteTime": {
     "end_time": "2023-04-25T17:10:13.393407Z",
     "start_time": "2023-04-25T17:10:13.330494Z"
    }
   },
   "outputs": [
    {
     "name": "stdout",
     "output_type": "stream",
     "text": [
      "(483,)\n",
      "(483,)\n"
     ]
    }
   ],
   "source": [
    "print(y_test.shape)\n",
    "print(y_pred.shape)"
   ]
  },
  {
   "cell_type": "markdown",
   "metadata": {},
   "source": [
    "# **Accuracy and Loss Function Values of the Model**"
   ]
  },
  {
   "cell_type": "code",
   "execution_count": 19,
   "metadata": {
    "ExecuteTime": {
     "end_time": "2023-04-25T17:10:14.791080Z",
     "start_time": "2023-04-25T17:10:14.744584Z"
    }
   },
   "outputs": [
    {
     "name": "stdout",
     "output_type": "stream",
     "text": [
      "Mean_Absolute_Error(MAE): 1.8662321884057977\n",
      "Mean_Squared_Error(MSE): 10.145216180559656\n",
      "Root_Mean_Squared_Error(RMSE): 3.1851555975430235\n"
     ]
    }
   ],
   "source": [
    "from sklearn import metrics  \n",
    "print('Mean_Absolute_Error(MAE):', metrics.mean_absolute_error(y_test, y_pred))  \n",
    "print('Mean_Squared_Error(MSE):', metrics.mean_squared_error(y_test, y_pred))  \n",
    "print('Root_Mean_Squared_Error(RMSE):', np.sqrt(metrics.mean_squared_error(y_test, y_pred)))"
   ]
  },
  {
   "cell_type": "code",
   "execution_count": 20,
   "metadata": {
    "ExecuteTime": {
     "end_time": "2023-04-25T17:10:16.057992Z",
     "start_time": "2023-04-25T17:10:15.873207Z"
    }
   },
   "outputs": [],
   "source": [
    "from sklearn.model_selection import cross_val_score\n",
    "\n",
    "dt_fit = regressor.fit(X_train, y_train)\n",
    "dt_scores = cross_val_score(dt_fit, X_train, y_train, cv = 5)"
   ]
  },
  {
   "cell_type": "code",
   "execution_count": 21,
   "metadata": {
    "ExecuteTime": {
     "end_time": "2023-04-25T17:10:16.076527Z",
     "start_time": "2023-04-25T17:10:16.014714Z"
    }
   },
   "outputs": [
    {
     "name": "stdout",
     "output_type": "stream",
     "text": [
      "Accuracy score: 0.9991332\n"
     ]
    }
   ],
   "source": [
    "print(\"Accuracy score: {:.7f}\".format(regressor.score(X_test, y_test)))"
   ]
  },
  {
   "cell_type": "code",
   "execution_count": null,
   "metadata": {
    "ExecuteTime": {
     "end_time": "2023-04-25T17:08:55.211881Z",
     "start_time": "2023-04-25T17:08:55.117286Z"
    },
    "collapsed": false
   },
   "outputs": [],
   "source": []
  },
  {
   "cell_type": "code",
   "execution_count": null,
   "metadata": {
    "collapsed": false
   },
   "outputs": [],
   "source": []
  }
 ],
 "metadata": {
  "colab": {
   "collapsed_sections": [
    "oB73Je3vJLd4",
    "gBPn_viWJRzD",
    "iHVTwDHHFVBN",
    "J6eM-Nc5FMHc",
    "--9uMqR-JfPk",
    "cHGwd1kqJvbQ",
    "Fkq1Ua5wJ8bY",
    "FT6JAYcAKEpQ"
   ],
   "name": "Decision_Machine_Learning_For_Stock_Price_Predictio.ipynb",
   "provenance": []
  },
  "interpreter": {
   "hash": "ff4f85d6e04298634172ac5d8264e7e9b556b95639fe52ebb9425c4d4cba0c9c"
  },
  "kernelspec": {
   "display_name": "Python 3.9.12 ('base')",
   "language": "python",
   "name": "python3"
  },
  "language_info": {
   "codemirror_mode": {
    "name": "ipython",
    "version": 3
   },
   "file_extension": ".py",
   "mimetype": "text/x-python",
   "name": "python",
   "nbconvert_exporter": "python",
   "pygments_lexer": "ipython3",
   "version": "3.11.5"
  }
 },
 "nbformat": 4,
 "nbformat_minor": 0
}
