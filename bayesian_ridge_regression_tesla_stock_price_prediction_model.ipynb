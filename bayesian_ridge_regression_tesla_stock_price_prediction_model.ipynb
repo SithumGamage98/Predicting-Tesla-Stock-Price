{
 "cells": [
  {
   "cell_type": "markdown",
   "metadata": {
    "id": "z732hgQ2ciNC"
   },
   "source": [
    "# 📉📊📈**Comparing the Performance of Various Machine Learning Models for Stock Price Prediction**📉📊📈\n"
   ]
  },
  {
   "cell_type": "markdown",
   "metadata": {},
   "source": [
    "Stock price forecasting is a challenging topic compared to other price forecasting cases. Scholars and experts from various fields have studied stock market price forecasts, noting that stocks exhibit random walking behavior with sudden rises and falls. Accurate stock market forecasting can greatly benefit managers, investors, and decision-makers in making informed investment choices. Machine learning techniques, utilizing historical data to identify patterns and predictive models, are commonly employed for stock price prediction."
   ]
  },
  {
   "cell_type": "markdown",
   "metadata": {
    "id": "_a2eB9y0DNSQ"
   },
   "source": [
    "# ✅ **Bayesian Ridge Regression** ✅"
   ]
  },
  {
   "cell_type": "markdown",
   "metadata": {
    "id": "NsKVFf2RPP_q"
   },
   "source": [
    "Bayesian regression is a powerful method for dealing with limited or unevenly distributed data in linear regression. By incorporating probability distributions, it offers greater flexibility and adaptability in modeling uncertainty and variability. This makes Bayesian regression a robust approach for handling challenging data situations and improving the accuracy and reliability of regression models."
   ]
  },
  {
   "cell_type": "markdown",
   "metadata": {
    "id": "TpujELISO5rj"
   },
   "source": [
    "# **Import Libraries**"
   ]
  },
  {
   "cell_type": "code",
   "execution_count": 1,
   "metadata": {
    "ExecuteTime": {
     "end_time": "2023-05-10T15:53:31.614480Z",
     "start_time": "2023-05-10T15:53:31.572144Z"
    },
    "id": "esw_1ijlDUqR"
   },
   "outputs": [],
   "source": [
    "# Import Libraries\n",
    "import numpy as np\n",
    "import pandas as pd\n",
    "\n",
    "import warnings\n",
    "warnings.filterwarnings(\"ignore\")\n",
    "\n",
    "\n",
    "# MATPLOTLIB & SEABORN FOR GRAPH-PLOTTING\n",
    "import matplotlib.pyplot as plt\n",
    "import seaborn as sns\n",
    "%matplotlib inline"
   ]
  },
  {
   "cell_type": "markdown",
   "metadata": {
    "id": "0iy0Y_h6PFlI"
   },
   "source": [
    "# **Load Data into the Data Frame**"
   ]
  },
  {
   "cell_type": "code",
   "execution_count": 2,
   "metadata": {
    "ExecuteTime": {
     "end_time": "2023-05-10T15:53:40.638794Z",
     "start_time": "2023-05-10T15:53:40.528571Z"
    },
    "colab": {
     "base_uri": "https://localhost:8080/",
     "height": 256
    },
    "id": "5CoGrzg-DZ8Q",
    "outputId": "acd42bd1-64f1-4cae-eecb-b85b6bd2df12"
   },
   "outputs": [
    {
     "data": {
      "text/html": [
       "<div>\n",
       "<style scoped>\n",
       "    .dataframe tbody tr th:only-of-type {\n",
       "        vertical-align: middle;\n",
       "    }\n",
       "\n",
       "    .dataframe tbody tr th {\n",
       "        vertical-align: top;\n",
       "    }\n",
       "\n",
       "    .dataframe thead th {\n",
       "        text-align: right;\n",
       "    }\n",
       "</style>\n",
       "<table border=\"1\" class=\"dataframe\">\n",
       "  <thead>\n",
       "    <tr style=\"text-align: right;\">\n",
       "      <th></th>\n",
       "      <th>Date</th>\n",
       "      <th>Open</th>\n",
       "      <th>High</th>\n",
       "      <th>Low</th>\n",
       "      <th>Close</th>\n",
       "      <th>Adj Close</th>\n",
       "      <th>Volume</th>\n",
       "    </tr>\n",
       "  </thead>\n",
       "  <tbody>\n",
       "    <tr>\n",
       "      <th>0</th>\n",
       "      <td>2010-06-29</td>\n",
       "      <td>19.000000</td>\n",
       "      <td>25.00</td>\n",
       "      <td>17.540001</td>\n",
       "      <td>23.889999</td>\n",
       "      <td>23.889999</td>\n",
       "      <td>18766300</td>\n",
       "    </tr>\n",
       "    <tr>\n",
       "      <th>1</th>\n",
       "      <td>2010-06-30</td>\n",
       "      <td>25.790001</td>\n",
       "      <td>30.42</td>\n",
       "      <td>23.299999</td>\n",
       "      <td>23.830000</td>\n",
       "      <td>23.830000</td>\n",
       "      <td>17187100</td>\n",
       "    </tr>\n",
       "    <tr>\n",
       "      <th>2</th>\n",
       "      <td>2010-07-01</td>\n",
       "      <td>25.000000</td>\n",
       "      <td>25.92</td>\n",
       "      <td>20.270000</td>\n",
       "      <td>21.959999</td>\n",
       "      <td>21.959999</td>\n",
       "      <td>8218800</td>\n",
       "    </tr>\n",
       "    <tr>\n",
       "      <th>3</th>\n",
       "      <td>2010-07-02</td>\n",
       "      <td>23.000000</td>\n",
       "      <td>23.10</td>\n",
       "      <td>18.709999</td>\n",
       "      <td>19.200001</td>\n",
       "      <td>19.200001</td>\n",
       "      <td>5139800</td>\n",
       "    </tr>\n",
       "    <tr>\n",
       "      <th>4</th>\n",
       "      <td>2010-07-06</td>\n",
       "      <td>20.000000</td>\n",
       "      <td>20.00</td>\n",
       "      <td>15.830000</td>\n",
       "      <td>16.110001</td>\n",
       "      <td>16.110001</td>\n",
       "      <td>6866900</td>\n",
       "    </tr>\n",
       "  </tbody>\n",
       "</table>\n",
       "</div>"
      ],
      "text/plain": [
       "         Date       Open   High        Low      Close  Adj Close    Volume\n",
       "0  2010-06-29  19.000000  25.00  17.540001  23.889999  23.889999  18766300\n",
       "1  2010-06-30  25.790001  30.42  23.299999  23.830000  23.830000  17187100\n",
       "2  2010-07-01  25.000000  25.92  20.270000  21.959999  21.959999   8218800\n",
       "3  2010-07-02  23.000000  23.10  18.709999  19.200001  19.200001   5139800\n",
       "4  2010-07-06  20.000000  20.00  15.830000  16.110001  16.110001   6866900"
      ]
     },
     "execution_count": 2,
     "metadata": {},
     "output_type": "execute_result"
    }
   ],
   "source": [
    "# input\n",
    "symbol = 'TSLA'\n",
    "start = '2010-01-01'\n",
    "end = '2021-12-31'\n",
    "\n",
    "dataset = pd.read_csv('../dataset/TSLA.csv')\n",
    "dataset.sample(5)\n",
    "dataset.head()"
   ]
  },
  {
   "cell_type": "markdown",
   "metadata": {
    "id": "PfhSdNG-LbK7"
   },
   "source": [
    "# **Data Preprocessing**"
   ]
  },
  {
   "cell_type": "code",
   "execution_count": 3,
   "metadata": {
    "ExecuteTime": {
     "end_time": "2023-05-10T15:53:49.856205Z",
     "start_time": "2023-05-10T15:53:49.749661Z"
    },
    "colab": {
     "base_uri": "https://localhost:8080/",
     "height": 237
    },
    "id": "_wgsJOb8DcAJ",
    "outputId": "85029f5f-f62b-4011-c6fb-efe784db74b3"
   },
   "outputs": [
    {
     "data": {
      "text/html": [
       "<div>\n",
       "<style scoped>\n",
       "    .dataframe tbody tr th:only-of-type {\n",
       "        vertical-align: middle;\n",
       "    }\n",
       "\n",
       "    .dataframe tbody tr th {\n",
       "        vertical-align: top;\n",
       "    }\n",
       "\n",
       "    .dataframe thead th {\n",
       "        text-align: right;\n",
       "    }\n",
       "</style>\n",
       "<table border=\"1\" class=\"dataframe\">\n",
       "  <thead>\n",
       "    <tr style=\"text-align: right;\">\n",
       "      <th></th>\n",
       "      <th>Date</th>\n",
       "      <th>Open</th>\n",
       "      <th>High</th>\n",
       "      <th>Low</th>\n",
       "      <th>Close</th>\n",
       "      <th>Adj Close</th>\n",
       "      <th>Volume</th>\n",
       "      <th>Increase_Decrease</th>\n",
       "      <th>Buy_Sell_on_Open</th>\n",
       "      <th>Buy_Sell</th>\n",
       "      <th>Returns</th>\n",
       "    </tr>\n",
       "  </thead>\n",
       "  <tbody>\n",
       "    <tr>\n",
       "      <th>1</th>\n",
       "      <td>2010-06-30</td>\n",
       "      <td>25.790001</td>\n",
       "      <td>30.420000</td>\n",
       "      <td>23.299999</td>\n",
       "      <td>23.830000</td>\n",
       "      <td>23.830000</td>\n",
       "      <td>17187100</td>\n",
       "      <td>0</td>\n",
       "      <td>0</td>\n",
       "      <td>0</td>\n",
       "      <td>-0.002511</td>\n",
       "    </tr>\n",
       "    <tr>\n",
       "      <th>2</th>\n",
       "      <td>2010-07-01</td>\n",
       "      <td>25.000000</td>\n",
       "      <td>25.920000</td>\n",
       "      <td>20.270000</td>\n",
       "      <td>21.959999</td>\n",
       "      <td>21.959999</td>\n",
       "      <td>8218800</td>\n",
       "      <td>0</td>\n",
       "      <td>0</td>\n",
       "      <td>0</td>\n",
       "      <td>-0.078473</td>\n",
       "    </tr>\n",
       "    <tr>\n",
       "      <th>3</th>\n",
       "      <td>2010-07-02</td>\n",
       "      <td>23.000000</td>\n",
       "      <td>23.100000</td>\n",
       "      <td>18.709999</td>\n",
       "      <td>19.200001</td>\n",
       "      <td>19.200001</td>\n",
       "      <td>5139800</td>\n",
       "      <td>1</td>\n",
       "      <td>0</td>\n",
       "      <td>0</td>\n",
       "      <td>-0.125683</td>\n",
       "    </tr>\n",
       "    <tr>\n",
       "      <th>4</th>\n",
       "      <td>2010-07-06</td>\n",
       "      <td>20.000000</td>\n",
       "      <td>20.000000</td>\n",
       "      <td>15.830000</td>\n",
       "      <td>16.110001</td>\n",
       "      <td>16.110001</td>\n",
       "      <td>6866900</td>\n",
       "      <td>1</td>\n",
       "      <td>0</td>\n",
       "      <td>0</td>\n",
       "      <td>-0.160937</td>\n",
       "    </tr>\n",
       "    <tr>\n",
       "      <th>5</th>\n",
       "      <td>2010-07-07</td>\n",
       "      <td>16.400000</td>\n",
       "      <td>16.629999</td>\n",
       "      <td>14.980000</td>\n",
       "      <td>15.800000</td>\n",
       "      <td>15.800000</td>\n",
       "      <td>6921700</td>\n",
       "      <td>1</td>\n",
       "      <td>0</td>\n",
       "      <td>1</td>\n",
       "      <td>-0.019243</td>\n",
       "    </tr>\n",
       "  </tbody>\n",
       "</table>\n",
       "</div>"
      ],
      "text/plain": [
       "         Date       Open       High        Low      Close  Adj Close  \\\n",
       "1  2010-06-30  25.790001  30.420000  23.299999  23.830000  23.830000   \n",
       "2  2010-07-01  25.000000  25.920000  20.270000  21.959999  21.959999   \n",
       "3  2010-07-02  23.000000  23.100000  18.709999  19.200001  19.200001   \n",
       "4  2010-07-06  20.000000  20.000000  15.830000  16.110001  16.110001   \n",
       "5  2010-07-07  16.400000  16.629999  14.980000  15.800000  15.800000   \n",
       "\n",
       "     Volume  Increase_Decrease  Buy_Sell_on_Open  Buy_Sell   Returns  \n",
       "1  17187100                  0                 0         0 -0.002511  \n",
       "2   8218800                  0                 0         0 -0.078473  \n",
       "3   5139800                  1                 0         0 -0.125683  \n",
       "4   6866900                  1                 0         0 -0.160937  \n",
       "5   6921700                  1                 0         1 -0.019243  "
      ]
     },
     "execution_count": 3,
     "metadata": {},
     "output_type": "execute_result"
    }
   ],
   "source": [
    "dataset['Increase_Decrease'] = np.where(dataset['Volume'].shift(-1) > dataset['Volume'],1,0)\n",
    "dataset['Buy_Sell_on_Open'] = np.where(dataset['Open'].shift(-1) > dataset['Open'],1,0)\n",
    "dataset['Buy_Sell'] = np.where(dataset['Adj Close'].shift(-1) > dataset['Adj Close'],1,0)\n",
    "dataset['Returns'] = dataset['Adj Close'].pct_change()\n",
    "dataset = dataset.dropna()\n",
    "dataset.head()\n"
   ]
  },
  {
   "cell_type": "code",
   "execution_count": 4,
   "metadata": {
    "ExecuteTime": {
     "end_time": "2023-05-10T15:54:50.999840Z",
     "start_time": "2023-05-10T15:54:50.944261Z"
    },
    "colab": {
     "base_uri": "https://localhost:8080/",
     "height": 455
    },
    "id": "hXkGI25cPM6X",
    "outputId": "030ff17f-0023-47a6-894f-7b625d798168"
   },
   "outputs": [
    {
     "data": {
      "text/html": [
       "<div>\n",
       "<style scoped>\n",
       "    .dataframe tbody tr th:only-of-type {\n",
       "        vertical-align: middle;\n",
       "    }\n",
       "\n",
       "    .dataframe tbody tr th {\n",
       "        vertical-align: top;\n",
       "    }\n",
       "\n",
       "    .dataframe thead th {\n",
       "        text-align: right;\n",
       "    }\n",
       "</style>\n",
       "<table border=\"1\" class=\"dataframe\">\n",
       "  <thead>\n",
       "    <tr style=\"text-align: right;\">\n",
       "      <th></th>\n",
       "      <th>Date</th>\n",
       "      <th>Open</th>\n",
       "      <th>High</th>\n",
       "      <th>Low</th>\n",
       "      <th>Close</th>\n",
       "      <th>Adj Close</th>\n",
       "      <th>Volume</th>\n",
       "      <th>Increase_Decrease</th>\n",
       "      <th>Buy_Sell_on_Open</th>\n",
       "      <th>Buy_Sell</th>\n",
       "      <th>Returns</th>\n",
       "    </tr>\n",
       "  </thead>\n",
       "  <tbody>\n",
       "    <tr>\n",
       "      <th>1</th>\n",
       "      <td>2010-06-30</td>\n",
       "      <td>25.790001</td>\n",
       "      <td>30.420000</td>\n",
       "      <td>23.299999</td>\n",
       "      <td>23.830000</td>\n",
       "      <td>23.830000</td>\n",
       "      <td>17187100</td>\n",
       "      <td>0</td>\n",
       "      <td>0</td>\n",
       "      <td>0</td>\n",
       "      <td>-0.002511</td>\n",
       "    </tr>\n",
       "    <tr>\n",
       "      <th>2</th>\n",
       "      <td>2010-07-01</td>\n",
       "      <td>25.000000</td>\n",
       "      <td>25.920000</td>\n",
       "      <td>20.270000</td>\n",
       "      <td>21.959999</td>\n",
       "      <td>21.959999</td>\n",
       "      <td>8218800</td>\n",
       "      <td>0</td>\n",
       "      <td>0</td>\n",
       "      <td>0</td>\n",
       "      <td>-0.078473</td>\n",
       "    </tr>\n",
       "    <tr>\n",
       "      <th>3</th>\n",
       "      <td>2010-07-02</td>\n",
       "      <td>23.000000</td>\n",
       "      <td>23.100000</td>\n",
       "      <td>18.709999</td>\n",
       "      <td>19.200001</td>\n",
       "      <td>19.200001</td>\n",
       "      <td>5139800</td>\n",
       "      <td>1</td>\n",
       "      <td>0</td>\n",
       "      <td>0</td>\n",
       "      <td>-0.125683</td>\n",
       "    </tr>\n",
       "    <tr>\n",
       "      <th>4</th>\n",
       "      <td>2010-07-06</td>\n",
       "      <td>20.000000</td>\n",
       "      <td>20.000000</td>\n",
       "      <td>15.830000</td>\n",
       "      <td>16.110001</td>\n",
       "      <td>16.110001</td>\n",
       "      <td>6866900</td>\n",
       "      <td>1</td>\n",
       "      <td>0</td>\n",
       "      <td>0</td>\n",
       "      <td>-0.160937</td>\n",
       "    </tr>\n",
       "    <tr>\n",
       "      <th>5</th>\n",
       "      <td>2010-07-07</td>\n",
       "      <td>16.400000</td>\n",
       "      <td>16.629999</td>\n",
       "      <td>14.980000</td>\n",
       "      <td>15.800000</td>\n",
       "      <td>15.800000</td>\n",
       "      <td>6921700</td>\n",
       "      <td>1</td>\n",
       "      <td>0</td>\n",
       "      <td>1</td>\n",
       "      <td>-0.019243</td>\n",
       "    </tr>\n",
       "    <tr>\n",
       "      <th>...</th>\n",
       "      <td>...</td>\n",
       "      <td>...</td>\n",
       "      <td>...</td>\n",
       "      <td>...</td>\n",
       "      <td>...</td>\n",
       "      <td>...</td>\n",
       "      <td>...</td>\n",
       "      <td>...</td>\n",
       "      <td>...</td>\n",
       "      <td>...</td>\n",
       "      <td>...</td>\n",
       "    </tr>\n",
       "    <tr>\n",
       "      <th>2411</th>\n",
       "      <td>2020-01-28</td>\n",
       "      <td>568.489990</td>\n",
       "      <td>576.809998</td>\n",
       "      <td>558.080017</td>\n",
       "      <td>566.900024</td>\n",
       "      <td>566.900024</td>\n",
       "      <td>11788500</td>\n",
       "      <td>1</td>\n",
       "      <td>1</td>\n",
       "      <td>1</td>\n",
       "      <td>0.015913</td>\n",
       "    </tr>\n",
       "    <tr>\n",
       "      <th>2412</th>\n",
       "      <td>2020-01-29</td>\n",
       "      <td>575.690002</td>\n",
       "      <td>589.799988</td>\n",
       "      <td>567.429993</td>\n",
       "      <td>580.989990</td>\n",
       "      <td>580.989990</td>\n",
       "      <td>17801500</td>\n",
       "      <td>1</td>\n",
       "      <td>1</td>\n",
       "      <td>1</td>\n",
       "      <td>0.024854</td>\n",
       "    </tr>\n",
       "    <tr>\n",
       "      <th>2413</th>\n",
       "      <td>2020-01-30</td>\n",
       "      <td>632.419983</td>\n",
       "      <td>650.880005</td>\n",
       "      <td>618.000000</td>\n",
       "      <td>640.809998</td>\n",
       "      <td>640.809998</td>\n",
       "      <td>29005700</td>\n",
       "      <td>0</td>\n",
       "      <td>1</td>\n",
       "      <td>1</td>\n",
       "      <td>0.102962</td>\n",
       "    </tr>\n",
       "    <tr>\n",
       "      <th>2414</th>\n",
       "      <td>2020-01-31</td>\n",
       "      <td>640.000000</td>\n",
       "      <td>653.000000</td>\n",
       "      <td>632.520020</td>\n",
       "      <td>650.570007</td>\n",
       "      <td>650.570007</td>\n",
       "      <td>15719300</td>\n",
       "      <td>1</td>\n",
       "      <td>1</td>\n",
       "      <td>1</td>\n",
       "      <td>0.015231</td>\n",
       "    </tr>\n",
       "    <tr>\n",
       "      <th>2415</th>\n",
       "      <td>2020-02-03</td>\n",
       "      <td>673.690002</td>\n",
       "      <td>786.140015</td>\n",
       "      <td>673.520020</td>\n",
       "      <td>780.000000</td>\n",
       "      <td>780.000000</td>\n",
       "      <td>47065000</td>\n",
       "      <td>0</td>\n",
       "      <td>0</td>\n",
       "      <td>0</td>\n",
       "      <td>0.198949</td>\n",
       "    </tr>\n",
       "  </tbody>\n",
       "</table>\n",
       "<p>2415 rows × 11 columns</p>\n",
       "</div>"
      ],
      "text/plain": [
       "            Date        Open        High         Low       Close   Adj Close  \\\n",
       "1     2010-06-30   25.790001   30.420000   23.299999   23.830000   23.830000   \n",
       "2     2010-07-01   25.000000   25.920000   20.270000   21.959999   21.959999   \n",
       "3     2010-07-02   23.000000   23.100000   18.709999   19.200001   19.200001   \n",
       "4     2010-07-06   20.000000   20.000000   15.830000   16.110001   16.110001   \n",
       "5     2010-07-07   16.400000   16.629999   14.980000   15.800000   15.800000   \n",
       "...          ...         ...         ...         ...         ...         ...   \n",
       "2411  2020-01-28  568.489990  576.809998  558.080017  566.900024  566.900024   \n",
       "2412  2020-01-29  575.690002  589.799988  567.429993  580.989990  580.989990   \n",
       "2413  2020-01-30  632.419983  650.880005  618.000000  640.809998  640.809998   \n",
       "2414  2020-01-31  640.000000  653.000000  632.520020  650.570007  650.570007   \n",
       "2415  2020-02-03  673.690002  786.140015  673.520020  780.000000  780.000000   \n",
       "\n",
       "        Volume  Increase_Decrease  Buy_Sell_on_Open  Buy_Sell   Returns  \n",
       "1     17187100                  0                 0         0 -0.002511  \n",
       "2      8218800                  0                 0         0 -0.078473  \n",
       "3      5139800                  1                 0         0 -0.125683  \n",
       "4      6866900                  1                 0         0 -0.160937  \n",
       "5      6921700                  1                 0         1 -0.019243  \n",
       "...        ...                ...               ...       ...       ...  \n",
       "2411  11788500                  1                 1         1  0.015913  \n",
       "2412  17801500                  1                 1         1  0.024854  \n",
       "2413  29005700                  0                 1         1  0.102962  \n",
       "2414  15719300                  1                 1         1  0.015231  \n",
       "2415  47065000                  0                 0         0  0.198949  \n",
       "\n",
       "[2415 rows x 11 columns]"
      ]
     },
     "execution_count": 4,
     "metadata": {},
     "output_type": "execute_result"
    }
   ],
   "source": [
    "#View Dataset\n",
    "dataset"
   ]
  },
  {
   "cell_type": "markdown",
   "metadata": {
    "id": "85myMwfHLgc0"
   },
   "source": [
    "# **Dataset Cleaning and Null Value Testing**"
   ]
  },
  {
   "cell_type": "code",
   "execution_count": 5,
   "metadata": {
    "ExecuteTime": {
     "end_time": "2023-05-10T15:55:03.876126Z",
     "start_time": "2023-05-10T15:55:03.825215Z"
    },
    "colab": {
     "base_uri": "https://localhost:8080/"
    },
    "id": "h0UtWEn_PZDP",
    "outputId": "f328b615-231c-4499-84d5-7b20f65b636e"
   },
   "outputs": [
    {
     "data": {
      "text/plain": [
       "Date                 0\n",
       "Open                 0\n",
       "High                 0\n",
       "Low                  0\n",
       "Close                0\n",
       "Adj Close            0\n",
       "Volume               0\n",
       "Increase_Decrease    0\n",
       "Buy_Sell_on_Open     0\n",
       "Buy_Sell             0\n",
       "Returns              0\n",
       "dtype: int64"
      ]
     },
     "execution_count": 5,
     "metadata": {},
     "output_type": "execute_result"
    }
   ],
   "source": [
    "# See how many null \n",
    "# values in each column\n",
    "\n",
    "dataset.isnull().sum()"
   ]
  },
  {
   "cell_type": "code",
   "execution_count": 6,
   "metadata": {
    "ExecuteTime": {
     "end_time": "2023-05-10T15:55:40.844171Z",
     "start_time": "2023-05-10T15:55:38.865813Z"
    },
    "colab": {
     "base_uri": "https://localhost:8080/",
     "height": 349
    },
    "id": "M3fRoI0fPbVd",
    "outputId": "771a95f6-5816-419d-b1f1-eb84f8de72a5"
   },
   "outputs": [
    {
     "data": {
      "image/png": "[encoded data removed]",
      "text/plain": [
       "<Figure size 864x288 with 1 Axes>"
      ]
     },
     "metadata": {
      "needs_background": "light"
     },
     "output_type": "display_data"
    }
   ],
   "source": [
    "plt.figure(figsize=(12,4))\n",
    "sns.heatmap(dataset.isnull(), yticklabels=False,cbar=False,cmap='viridis')\n",
    "plt.savefig(\"Figure 1: Heatmap for Null Values\")"
   ]
  },
  {
   "cell_type": "markdown",
   "metadata": {
    "id": "0eUVLRjrPPZk"
   },
   "source": [
    "# **Analyze the Data**"
   ]
  },
  {
   "cell_type": "code",
   "execution_count": 7,
   "metadata": {
    "ExecuteTime": {
     "end_time": "2023-05-10T15:55:56.905706Z",
     "start_time": "2023-05-10T15:55:56.817468Z"
    },
    "colab": {
     "base_uri": "https://localhost:8080/"
    },
    "id": "GSUBDs3QDdjp",
    "outputId": "ca96cb32-198a-41fd-8c51-35ea820400bb"
   },
   "outputs": [
    {
     "data": {
      "text/plain": [
       "(2415, 11)"
      ]
     },
     "execution_count": 7,
     "metadata": {},
     "output_type": "execute_result"
    }
   ],
   "source": [
    "# see number of rows, number of columns\n",
    "dataset.shape"
   ]
  },
  {
   "cell_type": "code",
   "execution_count": 8,
   "metadata": {
    "ExecuteTime": {
     "end_time": "2023-05-10T15:56:05.832959Z",
     "start_time": "2023-05-10T15:56:05.727298Z"
    },
    "colab": {
     "base_uri": "https://localhost:8080/"
    },
    "id": "7BXkRX5oPTr4",
    "outputId": "cf05a34a-95bf-4ca1-a8c7-e789192a6d53"
   },
   "outputs": [
    {
     "name": "stdout",
     "output_type": "stream",
     "text": [
      "Total number of records =  26565\n"
     ]
    }
   ],
   "source": [
    "#TOTAL NUMBER OF RECORDS\n",
    "dataset.size\n",
    "print(\"Total number of records = \",dataset.size)"
   ]
  },
  {
   "cell_type": "markdown",
   "metadata": {},
   "source": []
  },
  {
   "cell_type": "code",
   "execution_count": 9,
   "metadata": {
    "ExecuteTime": {
     "end_time": "2023-05-10T15:56:15.743563Z",
     "start_time": "2023-05-10T15:56:15.622925Z"
    },
    "colab": {
     "base_uri": "https://localhost:8080/"
    },
    "id": "A8oT4uzIPVhD",
    "outputId": "48ecc24f-dce3-40ec-80aa-70538aee967e"
   },
   "outputs": [
    {
     "data": {
      "text/plain": [
       "Index(['Date', 'Open', 'High', 'Low', 'Close', 'Adj Close', 'Volume',\n",
       "       'Increase_Decrease', 'Buy_Sell_on_Open', 'Buy_Sell', 'Returns'],\n",
       "      dtype='object')"
      ]
     },
     "execution_count": 9,
     "metadata": {},
     "output_type": "execute_result"
    }
   ],
   "source": [
    "# see columns names\n",
    "\n",
    "dataset.columns"
   ]
  },
  {
   "cell_type": "code",
   "execution_count": 10,
   "metadata": {
    "ExecuteTime": {
     "end_time": "2023-05-10T15:56:37.592923Z",
     "start_time": "2023-05-10T15:56:37.535184Z"
    },
    "colab": {
     "base_uri": "https://localhost:8080/"
    },
    "id": "f5la7x-EPXIh",
    "outputId": "ca3d2834-f902-4d00-d9a7-184459557847"
   },
   "outputs": [
    {
     "name": "stdout",
     "output_type": "stream",
     "text": [
      "<class 'pandas.core.frame.DataFrame'>\n",
      "Int64Index: 2415 entries, 1 to 2415\n",
      "Data columns (total 11 columns):\n",
      " #   Column             Non-Null Count  Dtype  \n",
      "---  ------             --------------  -----  \n",
      " 0   Date               2415 non-null   object \n",
      " 1   Open               2415 non-null   float64\n",
      " 2   High               2415 non-null   float64\n",
      " 3   Low                2415 non-null   float64\n",
      " 4   Close              2415 non-null   float64\n",
      " 5   Adj Close          2415 non-null   float64\n",
      " 6   Volume             2415 non-null   int64  \n",
      " 7   Increase_Decrease  2415 non-null   int32  \n",
      " 8   Buy_Sell_on_Open   2415 non-null   int32  \n",
      " 9   Buy_Sell           2415 non-null   int32  \n",
      " 10  Returns            2415 non-null   float64\n",
      "dtypes: float64(6), int32(3), int64(1), object(1)\n",
      "memory usage: 198.1+ KB\n"
     ]
    }
   ],
   "source": [
    "#View Data Info\n",
    "dataset.info()"
   ]
  },
  {
   "cell_type": "code",
   "execution_count": 11,
   "metadata": {
    "ExecuteTime": {
     "end_time": "2023-05-10T15:56:52.296122Z",
     "start_time": "2023-05-10T15:56:47.389479Z"
    },
    "colab": {
     "base_uri": "https://localhost:8080/",
     "height": 1000
    },
    "id": "B3XfaNuvPdMz",
    "outputId": "c262485b-3fc4-46d1-86e5-94ad75ba2459"
   },
   "outputs": [
    {
     "data": {
      "text/plain": [
       "array([[<AxesSubplot:title={'center':'Open'}>,\n",
       "        <AxesSubplot:title={'center':'High'}>,\n",
       "        <AxesSubplot:title={'center':'Low'}>],\n",
       "       [<AxesSubplot:title={'center':'Close'}>,\n",
       "        <AxesSubplot:title={'center':'Adj Close'}>,\n",
       "        <AxesSubplot:title={'center':'Volume'}>],\n",
       "       [<AxesSubplot:title={'center':'Increase_Decrease'}>,\n",
       "        <AxesSubplot:title={'center':'Buy_Sell_on_Open'}>,\n",
       "        <AxesSubplot:title={'center':'Buy_Sell'}>],\n",
       "       [<AxesSubplot:title={'center':'Returns'}>, <AxesSubplot:>,\n",
       "        <AxesSubplot:>]], dtype=object)"
      ]
     },
     "execution_count": 11,
     "metadata": {},
     "output_type": "execute_result"
    },
    {
     "data": {
      "image/png": "[encoded data removed]",
      "text/plain": [
       "<Figure size 1080x1080 with 12 Axes>"
      ]
     },
     "metadata": {
      "needs_background": "light"
     },
     "output_type": "display_data"
    }
   ],
   "source": [
    "# Histogram per each numerical column\n",
    "\n",
    "dataset.hist(figsize=(15, 15))"
   ]
  },
  {
   "cell_type": "code",
   "execution_count": 12,
   "metadata": {
    "ExecuteTime": {
     "end_time": "2023-05-10T15:57:19.988171Z",
     "start_time": "2023-05-10T15:57:19.780843Z"
    },
    "colab": {
     "base_uri": "https://localhost:8080/",
     "height": 300
    },
    "id": "lKWPar17PfaG",
    "outputId": "b7246998-36e1-4b5d-cc4b-e045fe3679ce"
   },
   "outputs": [
    {
     "data": {
      "text/html": [
       "<div>\n",
       "<style scoped>\n",
       "    .dataframe tbody tr th:only-of-type {\n",
       "        vertical-align: middle;\n",
       "    }\n",
       "\n",
       "    .dataframe tbody tr th {\n",
       "        vertical-align: top;\n",
       "    }\n",
       "\n",
       "    .dataframe thead th {\n",
       "        text-align: right;\n",
       "    }\n",
       "</style>\n",
       "<table border=\"1\" class=\"dataframe\">\n",
       "  <thead>\n",
       "    <tr style=\"text-align: right;\">\n",
       "      <th></th>\n",
       "      <th>Open</th>\n",
       "      <th>High</th>\n",
       "      <th>Low</th>\n",
       "      <th>Close</th>\n",
       "      <th>Adj Close</th>\n",
       "      <th>Volume</th>\n",
       "      <th>Increase_Decrease</th>\n",
       "      <th>Buy_Sell_on_Open</th>\n",
       "      <th>Buy_Sell</th>\n",
       "      <th>Returns</th>\n",
       "    </tr>\n",
       "  </thead>\n",
       "  <tbody>\n",
       "    <tr>\n",
       "      <th>count</th>\n",
       "      <td>2415.000000</td>\n",
       "      <td>2415.000000</td>\n",
       "      <td>2415.000000</td>\n",
       "      <td>2415.000000</td>\n",
       "      <td>2415.000000</td>\n",
       "      <td>2.415000e+03</td>\n",
       "      <td>2415.000000</td>\n",
       "      <td>2415.000000</td>\n",
       "      <td>2415.000000</td>\n",
       "      <td>2415.000000</td>\n",
       "    </tr>\n",
       "    <tr>\n",
       "      <th>mean</th>\n",
       "      <td>186.340410</td>\n",
       "      <td>189.646373</td>\n",
       "      <td>182.985118</td>\n",
       "      <td>186.470944</td>\n",
       "      <td>186.470944</td>\n",
       "      <td>5.567259e+06</td>\n",
       "      <td>0.469979</td>\n",
       "      <td>0.520497</td>\n",
       "      <td>0.511387</td>\n",
       "      <td>0.001975</td>\n",
       "    </tr>\n",
       "    <tr>\n",
       "      <th>std</th>\n",
       "      <td>118.715928</td>\n",
       "      <td>120.870941</td>\n",
       "      <td>116.833297</td>\n",
       "      <td>119.114759</td>\n",
       "      <td>119.114759</td>\n",
       "      <td>4.981607e+06</td>\n",
       "      <td>0.499201</td>\n",
       "      <td>0.499683</td>\n",
       "      <td>0.499974</td>\n",
       "      <td>0.032762</td>\n",
       "    </tr>\n",
       "    <tr>\n",
       "      <th>min</th>\n",
       "      <td>16.139999</td>\n",
       "      <td>16.629999</td>\n",
       "      <td>14.980000</td>\n",
       "      <td>15.800000</td>\n",
       "      <td>15.800000</td>\n",
       "      <td>1.185000e+05</td>\n",
       "      <td>0.000000</td>\n",
       "      <td>0.000000</td>\n",
       "      <td>0.000000</td>\n",
       "      <td>-0.193274</td>\n",
       "    </tr>\n",
       "    <tr>\n",
       "      <th>25%</th>\n",
       "      <td>34.375000</td>\n",
       "      <td>34.930001</td>\n",
       "      <td>33.650000</td>\n",
       "      <td>34.400002</td>\n",
       "      <td>34.400002</td>\n",
       "      <td>1.897250e+06</td>\n",
       "      <td>0.000000</td>\n",
       "      <td>0.000000</td>\n",
       "      <td>0.000000</td>\n",
       "      <td>-0.014178</td>\n",
       "    </tr>\n",
       "    <tr>\n",
       "      <th>50%</th>\n",
       "      <td>213.100006</td>\n",
       "      <td>216.750000</td>\n",
       "      <td>208.919998</td>\n",
       "      <td>212.960007</td>\n",
       "      <td>212.960007</td>\n",
       "      <td>4.577200e+06</td>\n",
       "      <td>0.000000</td>\n",
       "      <td>1.000000</td>\n",
       "      <td>1.000000</td>\n",
       "      <td>0.000870</td>\n",
       "    </tr>\n",
       "    <tr>\n",
       "      <th>75%</th>\n",
       "      <td>266.450012</td>\n",
       "      <td>270.935012</td>\n",
       "      <td>262.104995</td>\n",
       "      <td>266.779999</td>\n",
       "      <td>266.779999</td>\n",
       "      <td>7.360250e+06</td>\n",
       "      <td>1.000000</td>\n",
       "      <td>1.000000</td>\n",
       "      <td>1.000000</td>\n",
       "      <td>0.018115</td>\n",
       "    </tr>\n",
       "    <tr>\n",
       "      <th>max</th>\n",
       "      <td>673.690002</td>\n",
       "      <td>786.140015</td>\n",
       "      <td>673.520020</td>\n",
       "      <td>780.000000</td>\n",
       "      <td>780.000000</td>\n",
       "      <td>4.706500e+07</td>\n",
       "      <td>1.000000</td>\n",
       "      <td>1.000000</td>\n",
       "      <td>1.000000</td>\n",
       "      <td>0.243951</td>\n",
       "    </tr>\n",
       "  </tbody>\n",
       "</table>\n",
       "</div>"
      ],
      "text/plain": [
       "              Open         High          Low        Close    Adj Close  \\\n",
       "count  2415.000000  2415.000000  2415.000000  2415.000000  2415.000000   \n",
       "mean    186.340410   189.646373   182.985118   186.470944   186.470944   \n",
       "std     118.715928   120.870941   116.833297   119.114759   119.114759   \n",
       "min      16.139999    16.629999    14.980000    15.800000    15.800000   \n",
       "25%      34.375000    34.930001    33.650000    34.400002    34.400002   \n",
       "50%     213.100006   216.750000   208.919998   212.960007   212.960007   \n",
       "75%     266.450012   270.935012   262.104995   266.779999   266.779999   \n",
       "max     673.690002   786.140015   673.520020   780.000000   780.000000   \n",
       "\n",
       "             Volume  Increase_Decrease  Buy_Sell_on_Open     Buy_Sell  \\\n",
       "count  2.415000e+03        2415.000000       2415.000000  2415.000000   \n",
       "mean   5.567259e+06           0.469979          0.520497     0.511387   \n",
       "std    4.981607e+06           0.499201          0.499683     0.499974   \n",
       "min    1.185000e+05           0.000000          0.000000     0.000000   \n",
       "25%    1.897250e+06           0.000000          0.000000     0.000000   \n",
       "50%    4.577200e+06           0.000000          1.000000     1.000000   \n",
       "75%    7.360250e+06           1.000000          1.000000     1.000000   \n",
       "max    4.706500e+07           1.000000          1.000000     1.000000   \n",
       "\n",
       "           Returns  \n",
       "count  2415.000000  \n",
       "mean      0.001975  \n",
       "std       0.032762  \n",
       "min      -0.193274  \n",
       "25%      -0.014178  \n",
       "50%       0.000870  \n",
       "75%       0.018115  \n",
       "max       0.243951  "
      ]
     },
     "execution_count": 12,
     "metadata": {},
     "output_type": "execute_result"
    }
   ],
   "source": [
    "# The statistics per each column\n",
    "\n",
    "dataset.describe()"
   ]
  },
  {
   "cell_type": "markdown",
   "metadata": {
    "id": "_y46f82APjLr"
   },
   "source": [
    "# **Define X and Y**"
   ]
  },
  {
   "cell_type": "code",
   "execution_count": 13,
   "metadata": {
    "ExecuteTime": {
     "end_time": "2023-05-10T15:57:43.850252Z",
     "start_time": "2023-05-10T15:57:43.815979Z"
    },
    "id": "SJ9j9UEeDfHo"
   },
   "outputs": [],
   "source": [
    "X = dataset['Open'].values.reshape(-1,1)\n",
    "y = dataset['Adj Close'].values.reshape(-1,1)"
   ]
  },
  {
   "cell_type": "code",
   "execution_count": 14,
   "metadata": {
    "ExecuteTime": {
     "end_time": "2023-05-10T15:57:50.217415Z",
     "start_time": "2023-05-10T15:57:49.462659Z"
    },
    "colab": {
     "base_uri": "https://localhost:8080/"
    },
    "id": "SiEx7IFCDk_L",
    "outputId": "ae417ebc-9c67-4496-b03a-6d3d6ce6bbc6"
   },
   "outputs": [
    {
     "data": {
      "text/plain": [
       "BayesianRidge(compute_score=True)"
      ]
     },
     "execution_count": 14,
     "metadata": {},
     "output_type": "execute_result"
    }
   ],
   "source": [
    "from sklearn.linear_model import BayesianRidge, LinearRegression\n",
    "\n",
    "# Fit the Bayesian Ridge Regression and an OLS for comparison\n",
    "model = BayesianRidge(compute_score=True)\n",
    "model.fit(X, y)"
   ]
  },
  {
   "cell_type": "code",
   "execution_count": 15,
   "metadata": {
    "ExecuteTime": {
     "end_time": "2023-05-10T15:57:56.735353Z",
     "start_time": "2023-05-10T15:57:56.589779Z"
    },
    "colab": {
     "base_uri": "https://localhost:8080/"
    },
    "id": "Xf8X78dcDn-z",
    "outputId": "a8f24398-cf8a-40b2-8a13-145400aed98a"
   },
   "outputs": [
    {
     "data": {
      "text/plain": [
       "array([1.00224035])"
      ]
     },
     "execution_count": 15,
     "metadata": {},
     "output_type": "execute_result"
    }
   ],
   "source": [
    "model.coef_"
   ]
  },
  {
   "cell_type": "code",
   "execution_count": 16,
   "metadata": {
    "ExecuteTime": {
     "end_time": "2023-05-10T15:58:05.112702Z",
     "start_time": "2023-05-10T15:58:04.995429Z"
    },
    "colab": {
     "base_uri": "https://localhost:8080/"
    },
    "id": "kJ7S8yxrDp-r",
    "outputId": "d3189155-fa5d-4ef1-a320-4c777ff43ace"
   },
   "outputs": [
    {
     "data": {
      "text/plain": [
       "array([-13769.73117568,  -7603.6998973 ,  -7603.69989362])"
      ]
     },
     "execution_count": 16,
     "metadata": {},
     "output_type": "execute_result"
    }
   ],
   "source": [
    "model.scores_"
   ]
  },
  {
   "cell_type": "markdown",
   "metadata": {
    "id": "8bVZFNDiPqkP"
   },
   "source": [
    "# **Split Train Data and Test Data**"
   ]
  },
  {
   "cell_type": "code",
   "execution_count": 18,
   "metadata": {
    "ExecuteTime": {
     "end_time": "2023-05-10T15:58:45.637078Z",
     "start_time": "2023-05-10T15:58:45.615146Z"
    },
    "id": "HlhbUS61DrWr"
   },
   "outputs": [],
   "source": [
    "from sklearn.model_selection import train_test_split"
   ]
  },
  {
   "cell_type": "code",
   "execution_count": 19,
   "metadata": {
    "ExecuteTime": {
     "end_time": "2023-05-10T15:58:50.248794Z",
     "start_time": "2023-05-10T15:58:50.221964Z"
    },
    "id": "FgiQLSeGDsxh"
   },
   "outputs": [],
   "source": [
    "X_train, X_test, y_train, y_test = train_test_split(X, y, test_size = 0.2, random_state = 0)"
   ]
  },
  {
   "cell_type": "markdown",
   "metadata": {
    "id": "T8LpUbrtPvd3"
   },
   "source": [
    "# **Dataset Traning and Model Traning**"
   ]
  },
  {
   "cell_type": "code",
   "execution_count": 20,
   "metadata": {
    "ExecuteTime": {
     "end_time": "2023-05-10T15:58:57.348684Z",
     "start_time": "2023-05-10T15:58:57.306229Z"
    },
    "colab": {
     "base_uri": "https://localhost:8080/"
    },
    "id": "3jQvIvwlDuXQ",
    "outputId": "5305be77-0714-463e-9c59-87f15c2af5e9"
   },
   "outputs": [
    {
     "data": {
      "text/plain": [
       "BayesianRidge(compute_score=True)"
      ]
     },
     "execution_count": 20,
     "metadata": {},
     "output_type": "execute_result"
    }
   ],
   "source": [
    "model = BayesianRidge(compute_score=True)\n",
    "model.fit(X_train, y_train)"
   ]
  },
  {
   "cell_type": "code",
   "execution_count": 21,
   "metadata": {
    "ExecuteTime": {
     "end_time": "2023-05-10T15:59:04.887586Z",
     "start_time": "2023-05-10T15:59:04.859171Z"
    },
    "colab": {
     "base_uri": "https://localhost:8080/"
    },
    "id": "uxtbTNkLDvzD",
    "outputId": "7e515f32-8ba8-4a02-b780-8677056b1b93"
   },
   "outputs": [
    {
     "data": {
      "text/plain": [
       "array([1.00341398])"
      ]
     },
     "execution_count": 21,
     "metadata": {},
     "output_type": "execute_result"
    }
   ],
   "source": [
    "model.coef_"
   ]
  },
  {
   "cell_type": "code",
   "execution_count": 22,
   "metadata": {
    "ExecuteTime": {
     "end_time": "2023-05-10T15:59:10.957372Z",
     "start_time": "2023-05-10T15:59:10.939328Z"
    },
    "colab": {
     "base_uri": "https://localhost:8080/"
    },
    "id": "_A-S-z2kDxCQ",
    "outputId": "435261a4-af26-4e8b-c098-a47c8553b4a8"
   },
   "outputs": [
    {
     "data": {
      "text/plain": [
       "array([-11021.36016793,  -6126.72738241,  -6126.72737572])"
      ]
     },
     "execution_count": 22,
     "metadata": {},
     "output_type": "execute_result"
    }
   ],
   "source": [
    "model.scores_"
   ]
  },
  {
   "cell_type": "markdown",
   "metadata": {
    "id": "pxs3rV5PMBmi"
   },
   "source": [
    "# **Comparison of Actual Values and Predicted Values**"
   ]
  },
  {
   "cell_type": "code",
   "execution_count": 23,
   "metadata": {
    "ExecuteTime": {
     "end_time": "2023-05-10T15:59:23.441544Z",
     "start_time": "2023-05-10T15:59:23.423798Z"
    },
    "id": "MQ7HP2gcDyiy"
   },
   "outputs": [],
   "source": [
    "y_pred = model.predict(X_test)"
   ]
  },
  {
   "cell_type": "markdown",
   "metadata": {
    "id": "UbZ5VEN3MITX"
   },
   "source": [
    "# **Accuracy and Loss Function Values of the Model**"
   ]
  },
  {
   "cell_type": "code",
   "execution_count": 24,
   "metadata": {
    "ExecuteTime": {
     "end_time": "2023-05-10T15:59:31.538127Z",
     "start_time": "2023-05-10T15:59:31.522174Z"
    },
    "colab": {
     "base_uri": "https://localhost:8080/"
    },
    "id": "OV3BBoe8dUfQ",
    "outputId": "6d12bdbf-ba21-47a8-a56e-22478fc0ad41"
   },
   "outputs": [
    {
     "name": "stdout",
     "output_type": "stream",
     "text": [
      "Mean_Absolute_Error(MAE): 3.336363266325477\n",
      "Mean_Squared_Error(MSE): 26.033929473243198\n",
      "Root_Mean_Squared_Error(RMSE): 5.102345487444299\n"
     ]
    }
   ],
   "source": [
    "from sklearn import metrics\n",
    "print('Mean_Absolute_Error(MAE):', metrics.mean_absolute_error(y_test, y_pred))\n",
    "print('Mean_Squared_Error(MSE):', metrics.mean_squared_error(y_test, y_pred))\n",
    "print('Root_Mean_Squared_Error(RMSE):', np.sqrt(metrics.mean_squared_error(y_test, y_pred)))\n"
   ]
  },
  {
   "cell_type": "code",
   "execution_count": 25,
   "metadata": {
    "ExecuteTime": {
     "end_time": "2023-05-10T15:59:40.760438Z",
     "start_time": "2023-05-10T15:59:40.746486Z"
    },
    "collapsed": false
   },
   "outputs": [
    {
     "name": "stdout",
     "output_type": "stream",
     "text": [
      "Accuracy Score: 0.9981252414650249\n"
     ]
    }
   ],
   "source": [
    "print('Accuracy Score:', model.score(X_test, y_test))"
   ]
  },
  {
   "cell_type": "code",
   "execution_count": null,
   "metadata": {
    "collapsed": false
   },
   "outputs": [],
   "source": []
  }
 ],
 "metadata": {
  "colab": {
   "collapsed_sections": [],
   "name": "Bayesian_Machine_Learning_final.ipynb",
   "provenance": []
  },
  "kernelspec": {
   "display_name": "Python 3 (ipykernel)",
   "language": "python",
   "name": "python3"
  },
  "language_info": {
   "codemirror_mode": {
    "name": "ipython",
    "version": 3
   },
   "file_extension": ".py",
   "mimetype": "text/x-python",
   "name": "python",
   "nbconvert_exporter": "python",
   "pygments_lexer": "ipython3",
   "version": "3.9.13"
  }
 },
 "nbformat": 4,
 "nbformat_minor": 1
}
