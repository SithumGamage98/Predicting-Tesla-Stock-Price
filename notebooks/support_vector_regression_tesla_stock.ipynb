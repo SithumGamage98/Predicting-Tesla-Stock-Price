{
 "cells": [
  {
   "cell_type": "markdown",
   "metadata": {
    "id": "z732hgQ2ciNC"
   },
   "source": [
    "#Comparing the Performance of Various Machine Learning Models for Stock Price Prediction\n"
   ]
  },
  {
   "cell_type": "markdown",
   "metadata": {
    "id": "TpujELISO5rj"
   },
   "source": [
    "# **Import Libraries**"
   ]
  },
  {
   "cell_type": "code",
   "execution_count": 1,
   "metadata": {
    "ExecuteTime": {
     "start_time": "2023-05-10T18:44:55.298722Z",
     "end_time": "2023-05-10T18:44:55.594878Z"
    },
    "id": "esw_1ijlDUqR"
   },
   "outputs": [],
   "source": [
    "import numpy as np\n",
    "import matplotlib.pyplot as plt\n",
    "import pandas as pd\n",
    "import warnings\n",
    "warnings.filterwarnings(\"ignore\")\n",
    "from sklearn.svm import SVR\n",
    "import seaborn as sns"
   ]
  },
  {
   "cell_type": "markdown",
   "metadata": {
    "id": "0iy0Y_h6PFlI"
   },
   "source": [
    "# **Load Data into the Data Frame**"
   ]
  },
  {
   "cell_type": "code",
   "execution_count": 2,
   "metadata": {
    "ExecuteTime": {
     "start_time": "2023-05-10T18:44:55.594878Z",
     "end_time": "2023-05-10T18:44:55.636913Z"
    },
    "colab": {
     "base_uri": "https://localhost:8080/",
     "height": 256
    },
    "id": "5CoGrzg-DZ8Q",
    "outputId": "acd42bd1-64f1-4cae-eecb-b85b6bd2df12"
   },
   "outputs": [
    {
     "data": {
      "text/plain": "         Date       Open   High        Low      Close  Adj Close    Volume\n0  2010-06-29  19.000000  25.00  17.540001  23.889999  23.889999  18766300\n1  2010-06-30  25.790001  30.42  23.299999  23.830000  23.830000  17187100\n2  2010-07-01  25.000000  25.92  20.270000  21.959999  21.959999   8218800\n3  2010-07-02  23.000000  23.10  18.709999  19.200001  19.200001   5139800\n4  2010-07-06  20.000000  20.00  15.830000  16.110001  16.110001   6866900",
      "text/html": "<div>\n<style scoped>\n    .dataframe tbody tr th:only-of-type {\n        vertical-align: middle;\n    }\n\n    .dataframe tbody tr th {\n        vertical-align: top;\n    }\n\n    .dataframe thead th {\n        text-align: right;\n    }\n</style>\n<table border=\"1\" class=\"dataframe\">\n  <thead>\n    <tr style=\"text-align: right;\">\n      <th></th>\n      <th>Date</th>\n      <th>Open</th>\n      <th>High</th>\n      <th>Low</th>\n      <th>Close</th>\n      <th>Adj Close</th>\n      <th>Volume</th>\n    </tr>\n  </thead>\n  <tbody>\n    <tr>\n      <th>0</th>\n      <td>2010-06-29</td>\n      <td>19.000000</td>\n      <td>25.00</td>\n      <td>17.540001</td>\n      <td>23.889999</td>\n      <td>23.889999</td>\n      <td>18766300</td>\n    </tr>\n    <tr>\n      <th>1</th>\n      <td>2010-06-30</td>\n      <td>25.790001</td>\n      <td>30.42</td>\n      <td>23.299999</td>\n      <td>23.830000</td>\n      <td>23.830000</td>\n      <td>17187100</td>\n    </tr>\n    <tr>\n      <th>2</th>\n      <td>2010-07-01</td>\n      <td>25.000000</td>\n      <td>25.92</td>\n      <td>20.270000</td>\n      <td>21.959999</td>\n      <td>21.959999</td>\n      <td>8218800</td>\n    </tr>\n    <tr>\n      <th>3</th>\n      <td>2010-07-02</td>\n      <td>23.000000</td>\n      <td>23.10</td>\n      <td>18.709999</td>\n      <td>19.200001</td>\n      <td>19.200001</td>\n      <td>5139800</td>\n    </tr>\n    <tr>\n      <th>4</th>\n      <td>2010-07-06</td>\n      <td>20.000000</td>\n      <td>20.00</td>\n      <td>15.830000</td>\n      <td>16.110001</td>\n      <td>16.110001</td>\n      <td>6866900</td>\n    </tr>\n  </tbody>\n</table>\n</div>"
     },
     "execution_count": 2,
     "metadata": {},
     "output_type": "execute_result"
    }
   ],
   "source": [
    "# input\n",
    "symbol = 'TSLA'\n",
    "start = '2010-01-01'\n",
    "end = '2021-12-31'\n",
    "\n",
    "dataset = pd.read_csv('../dataset/TSLA.csv')\n",
    "dataset.sample(5)\n",
    "dataset.head()"
   ]
  },
  {
   "cell_type": "markdown",
   "metadata": {
    "id": "PfhSdNG-LbK7"
   },
   "source": [
    "# **Data Preprocessing**"
   ]
  },
  {
   "cell_type": "code",
   "execution_count": 3,
   "metadata": {
    "ExecuteTime": {
     "start_time": "2023-05-10T18:44:55.624712Z",
     "end_time": "2023-05-10T18:44:55.806600Z"
    },
    "colab": {
     "base_uri": "https://localhost:8080/",
     "height": 237
    },
    "id": "_wgsJOb8DcAJ",
    "outputId": "85029f5f-f62b-4011-c6fb-efe784db74b3"
   },
   "outputs": [
    {
     "data": {
      "text/plain": "         Date       Open       High        Low      Close  Adj Close  \\\n1  2010-06-30  25.790001  30.420000  23.299999  23.830000  23.830000   \n2  2010-07-01  25.000000  25.920000  20.270000  21.959999  21.959999   \n3  2010-07-02  23.000000  23.100000  18.709999  19.200001  19.200001   \n4  2010-07-06  20.000000  20.000000  15.830000  16.110001  16.110001   \n5  2010-07-07  16.400000  16.629999  14.980000  15.800000  15.800000   \n\n     Volume  Increase_Decrease  Buy_Sell_on_Open  Buy_Sell   Returns  \n1  17187100                  0                 0         0 -0.002511  \n2   8218800                  0                 0         0 -0.078473  \n3   5139800                  1                 0         0 -0.125683  \n4   6866900                  1                 0         0 -0.160937  \n5   6921700                  1                 0         1 -0.019243  ",
      "text/html": "<div>\n<style scoped>\n    .dataframe tbody tr th:only-of-type {\n        vertical-align: middle;\n    }\n\n    .dataframe tbody tr th {\n        vertical-align: top;\n    }\n\n    .dataframe thead th {\n        text-align: right;\n    }\n</style>\n<table border=\"1\" class=\"dataframe\">\n  <thead>\n    <tr style=\"text-align: right;\">\n      <th></th>\n      <th>Date</th>\n      <th>Open</th>\n      <th>High</th>\n      <th>Low</th>\n      <th>Close</th>\n      <th>Adj Close</th>\n      <th>Volume</th>\n      <th>Increase_Decrease</th>\n      <th>Buy_Sell_on_Open</th>\n      <th>Buy_Sell</th>\n      <th>Returns</th>\n    </tr>\n  </thead>\n  <tbody>\n    <tr>\n      <th>1</th>\n      <td>2010-06-30</td>\n      <td>25.790001</td>\n      <td>30.420000</td>\n      <td>23.299999</td>\n      <td>23.830000</td>\n      <td>23.830000</td>\n      <td>17187100</td>\n      <td>0</td>\n      <td>0</td>\n      <td>0</td>\n      <td>-0.002511</td>\n    </tr>\n    <tr>\n      <th>2</th>\n      <td>2010-07-01</td>\n      <td>25.000000</td>\n      <td>25.920000</td>\n      <td>20.270000</td>\n      <td>21.959999</td>\n      <td>21.959999</td>\n      <td>8218800</td>\n      <td>0</td>\n      <td>0</td>\n      <td>0</td>\n      <td>-0.078473</td>\n    </tr>\n    <tr>\n      <th>3</th>\n      <td>2010-07-02</td>\n      <td>23.000000</td>\n      <td>23.100000</td>\n      <td>18.709999</td>\n      <td>19.200001</td>\n      <td>19.200001</td>\n      <td>5139800</td>\n      <td>1</td>\n      <td>0</td>\n      <td>0</td>\n      <td>-0.125683</td>\n    </tr>\n    <tr>\n      <th>4</th>\n      <td>2010-07-06</td>\n      <td>20.000000</td>\n      <td>20.000000</td>\n      <td>15.830000</td>\n      <td>16.110001</td>\n      <td>16.110001</td>\n      <td>6866900</td>\n      <td>1</td>\n      <td>0</td>\n      <td>0</td>\n      <td>-0.160937</td>\n    </tr>\n    <tr>\n      <th>5</th>\n      <td>2010-07-07</td>\n      <td>16.400000</td>\n      <td>16.629999</td>\n      <td>14.980000</td>\n      <td>15.800000</td>\n      <td>15.800000</td>\n      <td>6921700</td>\n      <td>1</td>\n      <td>0</td>\n      <td>1</td>\n      <td>-0.019243</td>\n    </tr>\n  </tbody>\n</table>\n</div>"
     },
     "execution_count": 3,
     "metadata": {},
     "output_type": "execute_result"
    }
   ],
   "source": [
    "dataset['Increase_Decrease'] = np.where(dataset['Volume'].shift(-1) > dataset['Volume'],1,0)\n",
    "dataset['Buy_Sell_on_Open'] = np.where(dataset['Open'].shift(-1) > dataset['Open'],1,0)\n",
    "dataset['Buy_Sell'] = np.where(dataset['Adj Close'].shift(-1) > dataset['Adj Close'],1,0)\n",
    "dataset['Returns'] = dataset['Adj Close'].pct_change()\n",
    "dataset = dataset.dropna()\n",
    "dataset.head()"
   ]
  },
  {
   "cell_type": "code",
   "execution_count": 4,
   "metadata": {
    "ExecuteTime": {
     "start_time": "2023-05-10T18:44:55.668213Z",
     "end_time": "2023-05-10T18:44:55.807103Z"
    },
    "colab": {
     "base_uri": "https://localhost:8080/",
     "height": 455
    },
    "id": "hXkGI25cPM6X",
    "outputId": "030ff17f-0023-47a6-894f-7b625d798168"
   },
   "outputs": [
    {
     "data": {
      "text/plain": "            Date        Open        High         Low       Close   Adj Close  \\\n1     2010-06-30   25.790001   30.420000   23.299999   23.830000   23.830000   \n2     2010-07-01   25.000000   25.920000   20.270000   21.959999   21.959999   \n3     2010-07-02   23.000000   23.100000   18.709999   19.200001   19.200001   \n4     2010-07-06   20.000000   20.000000   15.830000   16.110001   16.110001   \n5     2010-07-07   16.400000   16.629999   14.980000   15.800000   15.800000   \n...          ...         ...         ...         ...         ...         ...   \n2411  2020-01-28  568.489990  576.809998  558.080017  566.900024  566.900024   \n2412  2020-01-29  575.690002  589.799988  567.429993  580.989990  580.989990   \n2413  2020-01-30  632.419983  650.880005  618.000000  640.809998  640.809998   \n2414  2020-01-31  640.000000  653.000000  632.520020  650.570007  650.570007   \n2415  2020-02-03  673.690002  786.140015  673.520020  780.000000  780.000000   \n\n        Volume  Increase_Decrease  Buy_Sell_on_Open  Buy_Sell   Returns  \n1     17187100                  0                 0         0 -0.002511  \n2      8218800                  0                 0         0 -0.078473  \n3      5139800                  1                 0         0 -0.125683  \n4      6866900                  1                 0         0 -0.160937  \n5      6921700                  1                 0         1 -0.019243  \n...        ...                ...               ...       ...       ...  \n2411  11788500                  1                 1         1  0.015913  \n2412  17801500                  1                 1         1  0.024854  \n2413  29005700                  0                 1         1  0.102962  \n2414  15719300                  1                 1         1  0.015231  \n2415  47065000                  0                 0         0  0.198949  \n\n[2415 rows x 11 columns]",
      "text/html": "<div>\n<style scoped>\n    .dataframe tbody tr th:only-of-type {\n        vertical-align: middle;\n    }\n\n    .dataframe tbody tr th {\n        vertical-align: top;\n    }\n\n    .dataframe thead th {\n        text-align: right;\n    }\n</style>\n<table border=\"1\" class=\"dataframe\">\n  <thead>\n    <tr style=\"text-align: right;\">\n      <th></th>\n      <th>Date</th>\n      <th>Open</th>\n      <th>High</th>\n      <th>Low</th>\n      <th>Close</th>\n      <th>Adj Close</th>\n      <th>Volume</th>\n      <th>Increase_Decrease</th>\n      <th>Buy_Sell_on_Open</th>\n      <th>Buy_Sell</th>\n      <th>Returns</th>\n    </tr>\n  </thead>\n  <tbody>\n    <tr>\n      <th>1</th>\n      <td>2010-06-30</td>\n      <td>25.790001</td>\n      <td>30.420000</td>\n      <td>23.299999</td>\n      <td>23.830000</td>\n      <td>23.830000</td>\n      <td>17187100</td>\n      <td>0</td>\n      <td>0</td>\n      <td>0</td>\n      <td>-0.002511</td>\n    </tr>\n    <tr>\n      <th>2</th>\n      <td>2010-07-01</td>\n      <td>25.000000</td>\n      <td>25.920000</td>\n      <td>20.270000</td>\n      <td>21.959999</td>\n      <td>21.959999</td>\n      <td>8218800</td>\n      <td>0</td>\n      <td>0</td>\n      <td>0</td>\n      <td>-0.078473</td>\n    </tr>\n    <tr>\n      <th>3</th>\n      <td>2010-07-02</td>\n      <td>23.000000</td>\n      <td>23.100000</td>\n      <td>18.709999</td>\n      <td>19.200001</td>\n      <td>19.200001</td>\n      <td>5139800</td>\n      <td>1</td>\n      <td>0</td>\n      <td>0</td>\n      <td>-0.125683</td>\n    </tr>\n    <tr>\n      <th>4</th>\n      <td>2010-07-06</td>\n      <td>20.000000</td>\n      <td>20.000000</td>\n      <td>15.830000</td>\n      <td>16.110001</td>\n      <td>16.110001</td>\n      <td>6866900</td>\n      <td>1</td>\n      <td>0</td>\n      <td>0</td>\n      <td>-0.160937</td>\n    </tr>\n    <tr>\n      <th>5</th>\n      <td>2010-07-07</td>\n      <td>16.400000</td>\n      <td>16.629999</td>\n      <td>14.980000</td>\n      <td>15.800000</td>\n      <td>15.800000</td>\n      <td>6921700</td>\n      <td>1</td>\n      <td>0</td>\n      <td>1</td>\n      <td>-0.019243</td>\n    </tr>\n    <tr>\n      <th>...</th>\n      <td>...</td>\n      <td>...</td>\n      <td>...</td>\n      <td>...</td>\n      <td>...</td>\n      <td>...</td>\n      <td>...</td>\n      <td>...</td>\n      <td>...</td>\n      <td>...</td>\n      <td>...</td>\n    </tr>\n    <tr>\n      <th>2411</th>\n      <td>2020-01-28</td>\n      <td>568.489990</td>\n      <td>576.809998</td>\n      <td>558.080017</td>\n      <td>566.900024</td>\n      <td>566.900024</td>\n      <td>11788500</td>\n      <td>1</td>\n      <td>1</td>\n      <td>1</td>\n      <td>0.015913</td>\n    </tr>\n    <tr>\n      <th>2412</th>\n      <td>2020-01-29</td>\n      <td>575.690002</td>\n      <td>589.799988</td>\n      <td>567.429993</td>\n      <td>580.989990</td>\n      <td>580.989990</td>\n      <td>17801500</td>\n      <td>1</td>\n      <td>1</td>\n      <td>1</td>\n      <td>0.024854</td>\n    </tr>\n    <tr>\n      <th>2413</th>\n      <td>2020-01-30</td>\n      <td>632.419983</td>\n      <td>650.880005</td>\n      <td>618.000000</td>\n      <td>640.809998</td>\n      <td>640.809998</td>\n      <td>29005700</td>\n      <td>0</td>\n      <td>1</td>\n      <td>1</td>\n      <td>0.102962</td>\n    </tr>\n    <tr>\n      <th>2414</th>\n      <td>2020-01-31</td>\n      <td>640.000000</td>\n      <td>653.000000</td>\n      <td>632.520020</td>\n      <td>650.570007</td>\n      <td>650.570007</td>\n      <td>15719300</td>\n      <td>1</td>\n      <td>1</td>\n      <td>1</td>\n      <td>0.015231</td>\n    </tr>\n    <tr>\n      <th>2415</th>\n      <td>2020-02-03</td>\n      <td>673.690002</td>\n      <td>786.140015</td>\n      <td>673.520020</td>\n      <td>780.000000</td>\n      <td>780.000000</td>\n      <td>47065000</td>\n      <td>0</td>\n      <td>0</td>\n      <td>0</td>\n      <td>0.198949</td>\n    </tr>\n  </tbody>\n</table>\n<p>2415 rows × 11 columns</p>\n</div>"
     },
     "execution_count": 4,
     "metadata": {},
     "output_type": "execute_result"
    }
   ],
   "source": [
    "#View Dataset\n",
    "dataset"
   ]
  },
  {
   "cell_type": "markdown",
   "metadata": {
    "id": "85myMwfHLgc0"
   },
   "source": [
    "# **Dataset Cleaning and Null Value Testing**"
   ]
  },
  {
   "cell_type": "code",
   "execution_count": 5,
   "metadata": {
    "ExecuteTime": {
     "start_time": "2023-05-10T18:44:56.926162Z",
     "end_time": "2023-05-10T18:44:56.969661Z"
    },
    "colab": {
     "base_uri": "https://localhost:8080/"
    },
    "id": "h0UtWEn_PZDP",
    "outputId": "f328b615-231c-4499-84d5-7b20f65b636e"
   },
   "outputs": [
    {
     "data": {
      "text/plain": "Date                 0\nOpen                 0\nHigh                 0\nLow                  0\nClose                0\nAdj Close            0\nVolume               0\nIncrease_Decrease    0\nBuy_Sell_on_Open     0\nBuy_Sell             0\nReturns              0\ndtype: int64"
     },
     "execution_count": 5,
     "metadata": {},
     "output_type": "execute_result"
    }
   ],
   "source": [
    "# See how many null values in each column\n",
    "dataset.isnull().sum()"
   ]
  },
  {
   "cell_type": "code",
   "execution_count": 6,
   "metadata": {
    "ExecuteTime": {
     "start_time": "2023-05-10T18:44:57.798825Z",
     "end_time": "2023-05-10T18:44:58.012973Z"
    },
    "colab": {
     "base_uri": "https://localhost:8080/",
     "height": 349
    },
    "id": "M3fRoI0fPbVd",
    "outputId": "771a95f6-5816-419d-b1f1-eb84f8de72a5"
   },
   "outputs": [
    {
     "data": {
      "text/plain": "<Figure size 864x288 with 1 Axes>",
      "image/png": "[encoded data removed]"
     },
     "metadata": {},
     "output_type": "display_data"
    }
   ],
   "source": [
    "plt.figure(figsize=(12,4))\n",
    "sns.heatmap(dataset.isnull(), yticklabels=False,cbar=False,cmap='viridis')\n",
    "plt.savefig(\"Figure 1: Heatmap for Null Values\")"
   ]
  },
  {
   "cell_type": "markdown",
   "metadata": {
    "id": "0eUVLRjrPPZk"
   },
   "source": [
    "# **Analyze the Data**"
   ]
  },
  {
   "cell_type": "code",
   "execution_count": 7,
   "metadata": {
    "ExecuteTime": {
     "start_time": "2023-05-10T18:44:59.723802Z",
     "end_time": "2023-05-10T18:44:59.762854Z"
    },
    "colab": {
     "base_uri": "https://localhost:8080/"
    },
    "id": "GSUBDs3QDdjp",
    "outputId": "ca96cb32-198a-41fd-8c51-35ea820400bb"
   },
   "outputs": [
    {
     "data": {
      "text/plain": "(2415, 11)"
     },
     "execution_count": 7,
     "metadata": {},
     "output_type": "execute_result"
    }
   ],
   "source": [
    "# see number of rows, number of columns\n",
    "dataset.shape"
   ]
  },
  {
   "cell_type": "code",
   "execution_count": 8,
   "metadata": {
    "ExecuteTime": {
     "start_time": "2023-05-10T18:45:01.118661Z",
     "end_time": "2023-05-10T18:45:01.138113Z"
    },
    "colab": {
     "base_uri": "https://localhost:8080/"
    },
    "id": "7BXkRX5oPTr4",
    "outputId": "cf05a34a-95bf-4ca1-a8c7-e789192a6d53"
   },
   "outputs": [
    {
     "name": "stdout",
     "output_type": "stream",
     "text": [
      "Total number of records =  26565\n"
     ]
    }
   ],
   "source": [
    "#TOTAL NUMBER OF RECORDS\n",
    "dataset.size\n",
    "print(\"Total number of records = \",dataset.size)"
   ]
  },
  {
   "cell_type": "markdown",
   "metadata": {},
   "source": []
  },
  {
   "cell_type": "code",
   "execution_count": 9,
   "metadata": {
    "ExecuteTime": {
     "start_time": "2023-05-10T18:45:02.954921Z",
     "end_time": "2023-05-10T18:45:02.995498Z"
    },
    "colab": {
     "base_uri": "https://localhost:8080/"
    },
    "id": "A8oT4uzIPVhD",
    "outputId": "48ecc24f-dce3-40ec-80aa-70538aee967e"
   },
   "outputs": [
    {
     "data": {
      "text/plain": "Index(['Date', 'Open', 'High', 'Low', 'Close', 'Adj Close', 'Volume',\n       'Increase_Decrease', 'Buy_Sell_on_Open', 'Buy_Sell', 'Returns'],\n      dtype='object')"
     },
     "execution_count": 9,
     "metadata": {},
     "output_type": "execute_result"
    }
   ],
   "source": [
    "# see columns names\n",
    "\n",
    "dataset.columns"
   ]
  },
  {
   "cell_type": "code",
   "execution_count": 10,
   "metadata": {
    "ExecuteTime": {
     "start_time": "2023-05-10T18:45:04.246009Z",
     "end_time": "2023-05-10T18:45:04.280971Z"
    },
    "colab": {
     "base_uri": "https://localhost:8080/"
    },
    "id": "f5la7x-EPXIh",
    "outputId": "ca3d2834-f902-4d00-d9a7-184459557847"
   },
   "outputs": [
    {
     "name": "stdout",
     "output_type": "stream",
     "text": [
      "<class 'pandas.core.frame.DataFrame'>\n",
      "Int64Index: 2415 entries, 1 to 2415\n",
      "Data columns (total 11 columns):\n",
      " #   Column             Non-Null Count  Dtype  \n",
      "---  ------             --------------  -----  \n",
      " 0   Date               2415 non-null   object \n",
      " 1   Open               2415 non-null   float64\n",
      " 2   High               2415 non-null   float64\n",
      " 3   Low                2415 non-null   float64\n",
      " 4   Close              2415 non-null   float64\n",
      " 5   Adj Close          2415 non-null   float64\n",
      " 6   Volume             2415 non-null   int64  \n",
      " 7   Increase_Decrease  2415 non-null   int32  \n",
      " 8   Buy_Sell_on_Open   2415 non-null   int32  \n",
      " 9   Buy_Sell           2415 non-null   int32  \n",
      " 10  Returns            2415 non-null   float64\n",
      "dtypes: float64(6), int32(3), int64(1), object(1)\n",
      "memory usage: 198.1+ KB\n"
     ]
    }
   ],
   "source": [
    "#View Data Info\n",
    "dataset.info()"
   ]
  },
  {
   "cell_type": "code",
   "execution_count": 11,
   "metadata": {
    "ExecuteTime": {
     "start_time": "2023-05-10T18:45:05.220117Z",
     "end_time": "2023-05-10T18:45:06.694149Z"
    },
    "colab": {
     "base_uri": "https://localhost:8080/",
     "height": 1000
    },
    "id": "B3XfaNuvPdMz",
    "outputId": "c262485b-3fc4-46d1-86e5-94ad75ba2459"
   },
   "outputs": [
    {
     "data": {
      "text/plain": "array([[<AxesSubplot:title={'center':'Open'}>,\n        <AxesSubplot:title={'center':'High'}>,\n        <AxesSubplot:title={'center':'Low'}>],\n       [<AxesSubplot:title={'center':'Close'}>,\n        <AxesSubplot:title={'center':'Adj Close'}>,\n        <AxesSubplot:title={'center':'Volume'}>],\n       [<AxesSubplot:title={'center':'Increase_Decrease'}>,\n        <AxesSubplot:title={'center':'Buy_Sell_on_Open'}>,\n        <AxesSubplot:title={'center':'Buy_Sell'}>],\n       [<AxesSubplot:title={'center':'Returns'}>, <AxesSubplot:>,\n        <AxesSubplot:>]], dtype=object)"
     },
     "execution_count": 11,
     "metadata": {},
     "output_type": "execute_result"
    },
    {
     "data": {
      "text/plain": "<Figure size 1080x1080 with 12 Axes>",
      "image/png": "[encoded data removed]"
     },
     "metadata": {},
     "output_type": "display_data"
    }
   ],
   "source": [
    "# Histogram per each numerical column\n",
    "\n",
    "dataset.hist(figsize=(15, 15))"
   ]
  },
  {
   "cell_type": "code",
   "execution_count": 12,
   "metadata": {
    "ExecuteTime": {
     "start_time": "2023-05-10T18:45:06.695146Z",
     "end_time": "2023-05-10T18:45:06.845677Z"
    },
    "colab": {
     "base_uri": "https://localhost:8080/",
     "height": 300
    },
    "id": "lKWPar17PfaG",
    "outputId": "b7246998-36e1-4b5d-cc4b-e045fe3679ce"
   },
   "outputs": [
    {
     "data": {
      "text/plain": "              Open         High          Low        Close    Adj Close  \\\ncount  2415.000000  2415.000000  2415.000000  2415.000000  2415.000000   \nmean    186.340410   189.646373   182.985118   186.470944   186.470944   \nstd     118.715928   120.870941   116.833297   119.114759   119.114759   \nmin      16.139999    16.629999    14.980000    15.800000    15.800000   \n25%      34.375000    34.930001    33.650000    34.400002    34.400002   \n50%     213.100006   216.750000   208.919998   212.960007   212.960007   \n75%     266.450012   270.935012   262.104995   266.779999   266.779999   \nmax     673.690002   786.140015   673.520020   780.000000   780.000000   \n\n             Volume  Increase_Decrease  Buy_Sell_on_Open     Buy_Sell  \\\ncount  2.415000e+03        2415.000000       2415.000000  2415.000000   \nmean   5.567259e+06           0.469979          0.520497     0.511387   \nstd    4.981607e+06           0.499201          0.499683     0.499974   \nmin    1.185000e+05           0.000000          0.000000     0.000000   \n25%    1.897250e+06           0.000000          0.000000     0.000000   \n50%    4.577200e+06           0.000000          1.000000     1.000000   \n75%    7.360250e+06           1.000000          1.000000     1.000000   \nmax    4.706500e+07           1.000000          1.000000     1.000000   \n\n           Returns  \ncount  2415.000000  \nmean      0.001975  \nstd       0.032762  \nmin      -0.193274  \n25%      -0.014178  \n50%       0.000870  \n75%       0.018115  \nmax       0.243951  ",
      "text/html": "<div>\n<style scoped>\n    .dataframe tbody tr th:only-of-type {\n        vertical-align: middle;\n    }\n\n    .dataframe tbody tr th {\n        vertical-align: top;\n    }\n\n    .dataframe thead th {\n        text-align: right;\n    }\n</style>\n<table border=\"1\" class=\"dataframe\">\n  <thead>\n    <tr style=\"text-align: right;\">\n      <th></th>\n      <th>Open</th>\n      <th>High</th>\n      <th>Low</th>\n      <th>Close</th>\n      <th>Adj Close</th>\n      <th>Volume</th>\n      <th>Increase_Decrease</th>\n      <th>Buy_Sell_on_Open</th>\n      <th>Buy_Sell</th>\n      <th>Returns</th>\n    </tr>\n  </thead>\n  <tbody>\n    <tr>\n      <th>count</th>\n      <td>2415.000000</td>\n      <td>2415.000000</td>\n      <td>2415.000000</td>\n      <td>2415.000000</td>\n      <td>2415.000000</td>\n      <td>2.415000e+03</td>\n      <td>2415.000000</td>\n      <td>2415.000000</td>\n      <td>2415.000000</td>\n      <td>2415.000000</td>\n    </tr>\n    <tr>\n      <th>mean</th>\n      <td>186.340410</td>\n      <td>189.646373</td>\n      <td>182.985118</td>\n      <td>186.470944</td>\n      <td>186.470944</td>\n      <td>5.567259e+06</td>\n      <td>0.469979</td>\n      <td>0.520497</td>\n      <td>0.511387</td>\n      <td>0.001975</td>\n    </tr>\n    <tr>\n      <th>std</th>\n      <td>118.715928</td>\n      <td>120.870941</td>\n      <td>116.833297</td>\n      <td>119.114759</td>\n      <td>119.114759</td>\n      <td>4.981607e+06</td>\n      <td>0.499201</td>\n      <td>0.499683</td>\n      <td>0.499974</td>\n      <td>0.032762</td>\n    </tr>\n    <tr>\n      <th>min</th>\n      <td>16.139999</td>\n      <td>16.629999</td>\n      <td>14.980000</td>\n      <td>15.800000</td>\n      <td>15.800000</td>\n      <td>1.185000e+05</td>\n      <td>0.000000</td>\n      <td>0.000000</td>\n      <td>0.000000</td>\n      <td>-0.193274</td>\n    </tr>\n    <tr>\n      <th>25%</th>\n      <td>34.375000</td>\n      <td>34.930001</td>\n      <td>33.650000</td>\n      <td>34.400002</td>\n      <td>34.400002</td>\n      <td>1.897250e+06</td>\n      <td>0.000000</td>\n      <td>0.000000</td>\n      <td>0.000000</td>\n      <td>-0.014178</td>\n    </tr>\n    <tr>\n      <th>50%</th>\n      <td>213.100006</td>\n      <td>216.750000</td>\n      <td>208.919998</td>\n      <td>212.960007</td>\n      <td>212.960007</td>\n      <td>4.577200e+06</td>\n      <td>0.000000</td>\n      <td>1.000000</td>\n      <td>1.000000</td>\n      <td>0.000870</td>\n    </tr>\n    <tr>\n      <th>75%</th>\n      <td>266.450012</td>\n      <td>270.935012</td>\n      <td>262.104995</td>\n      <td>266.779999</td>\n      <td>266.779999</td>\n      <td>7.360250e+06</td>\n      <td>1.000000</td>\n      <td>1.000000</td>\n      <td>1.000000</td>\n      <td>0.018115</td>\n    </tr>\n    <tr>\n      <th>max</th>\n      <td>673.690002</td>\n      <td>786.140015</td>\n      <td>673.520020</td>\n      <td>780.000000</td>\n      <td>780.000000</td>\n      <td>4.706500e+07</td>\n      <td>1.000000</td>\n      <td>1.000000</td>\n      <td>1.000000</td>\n      <td>0.243951</td>\n    </tr>\n  </tbody>\n</table>\n</div>"
     },
     "execution_count": 12,
     "metadata": {},
     "output_type": "execute_result"
    }
   ],
   "source": [
    "# The statistics per each column\n",
    "\n",
    "dataset.describe()"
   ]
  },
  {
   "cell_type": "markdown",
   "metadata": {
    "id": "_y46f82APjLr"
   },
   "source": [
    "# **Define X and Y**"
   ]
  },
  {
   "cell_type": "code",
   "execution_count": 13,
   "metadata": {
    "ExecuteTime": {
     "start_time": "2023-04-25T16:43:30.567064Z",
     "end_time": "2023-04-25T16:43:30.809735Z"
    },
    "id": "SJ9j9UEeDfHo"
   },
   "outputs": [],
   "source": [
    "X = dataset['Open'].values.reshape(-1,1)\n",
    "y = dataset['Adj Close'].values.reshape(-1,1)"
   ]
  },
  {
   "cell_type": "code",
   "execution_count": 14,
   "outputs": [],
   "source": [
    "# Split Train Data and Test Data\n",
    "from sklearn.model_selection import train_test_split\n",
    "X_train, X_test, y_train, y_test = train_test_split(X, y, test_size = 0.2, random_state = 0)\n"
   ],
   "metadata": {
    "collapsed": false,
    "ExecuteTime": {
     "start_time": "2023-04-25T16:43:30.585598Z",
     "end_time": "2023-04-25T16:43:30.809735Z"
    }
   }
  },
  {
   "cell_type": "code",
   "execution_count": 15,
   "metadata": {
    "ExecuteTime": {
     "start_time": "2023-04-25T16:43:30.597653Z",
     "end_time": "2023-04-25T16:43:31.426723Z"
    },
    "colab": {
     "base_uri": "https://localhost:8080/"
    },
    "id": "SiEx7IFCDk_L",
    "outputId": "ae417ebc-9c67-4496-b03a-6d3d6ce6bbc6"
   },
   "outputs": [
    {
     "data": {
      "text/plain": "SVR()"
     },
     "execution_count": 15,
     "metadata": {},
     "output_type": "execute_result"
    }
   ],
   "source": [
    "# Model Training\n",
    "model = SVR()\n",
    "model.fit(X_train, y_train)"
   ]
  },
  {
   "cell_type": "code",
   "execution_count": 16,
   "outputs": [
    {
     "data": {
      "text/plain": "<Figure size 640x480 with 1 Axes>",
      "image/png": "[encoded data removed]"
     },
     "metadata": {},
     "output_type": "display_data"
    }
   ],
   "source": [
    "# Comparison of Actual Values and Predicted Values\n",
    "y_pred = model.predict(X_test)\n",
    "plt.scatter(y_test,y_pred)\n",
    "plt.xlabel('Actual Values')\n",
    "plt.ylabel('Predicted Values')\n",
    "plt.title('Comparison of Actual Values and Predicted Values')\n",
    "plt.show()"
   ],
   "metadata": {
    "collapsed": false,
    "ExecuteTime": {
     "start_time": "2023-04-25T16:43:31.427721Z",
     "end_time": "2023-04-25T16:43:32.740941Z"
    }
   }
  },
  {
   "cell_type": "code",
   "execution_count": 17,
   "outputs": [
    {
     "name": "stdout",
     "output_type": "stream",
     "text": [
      "      Actual  Predicted\n",
      "0  14.712000  14.727236\n",
      "1  16.504667  15.335608\n",
      "2   1.463333   2.514801\n",
      "3  16.004000  15.613330\n",
      "4   1.838000   2.828161\n",
      "         Actual   Predicted\n",
      "575   12.311333   11.810751\n",
      "576   13.939333   13.906032\n",
      "577    1.580667    2.660781\n",
      "578  281.516663  228.571822\n",
      "579   16.599333   16.225352\n"
     ]
    }
   ],
   "source": [
    "df = pd.DataFrame({'Actual':y_test.flatten(), 'Predicted':y_pred.flatten()})\n",
    "print(df.head())\n",
    "print(df.tail())"
   ],
   "metadata": {
    "collapsed": false,
    "ExecuteTime": {
     "start_time": "2023-04-25T16:43:32.715011Z",
     "end_time": "2023-04-25T16:43:32.894573Z"
    }
   }
  },
  {
   "cell_type": "code",
   "execution_count": 18,
   "outputs": [
    {
     "name": "stdout",
     "output_type": "stream",
     "text": [
      "Mean Absolute Error (MAE): 3.916464710907885\n",
      "Mean Squared Error (MSE): 340.6996836507791\n",
      "Root Mean Squared Error (RMSE): 18.458052000435448\n",
      "Accuracy Score: 0.9369082949256313\n"
     ]
    }
   ],
   "source": [
    "# Accuracy and Loss Function Values of the Model\n",
    "from sklearn import metrics\n",
    "print('Mean Absolute Error (MAE):', metrics.mean_absolute_error(y_test, y_pred))\n",
    "print('Mean Squared Error (MSE):', metrics.mean_squared_error(y_test, y_pred))\n",
    "print('Root Mean Squared Error (RMSE):', np.sqrt(metrics.mean_squared_error(y_test, y_pred)))\n",
    "print('Accuracy Score:', model.score(X_test, y_test))"
   ],
   "metadata": {
    "collapsed": false,
    "ExecuteTime": {
     "start_time": "2023-04-25T16:43:32.744932Z",
     "end_time": "2023-04-25T16:43:33.226572Z"
    }
   }
  },
  {
   "cell_type": "code",
   "execution_count": null,
   "outputs": [],
   "source": [],
   "metadata": {
    "collapsed": false
   }
  }
 ],
 "metadata": {
  "colab": {
   "collapsed_sections": [],
   "name": "Bayesian_Machine_Learning_final.ipynb",
   "provenance": []
  },
  "kernelspec": {
   "display_name": "Python 3 (ipykernel)",
   "language": "python",
   "name": "python3"
  },
  "language_info": {
   "codemirror_mode": {
    "name": "ipython",
    "version": 3
   },
   "file_extension": ".py",
   "mimetype": "text/x-python",
   "name": "python",
   "nbconvert_exporter": "python",
   "pygments_lexer": "ipython3",
   "version": "3.9.13"
  }
 },
 "nbformat": 4,
 "nbformat_minor": 1
}
